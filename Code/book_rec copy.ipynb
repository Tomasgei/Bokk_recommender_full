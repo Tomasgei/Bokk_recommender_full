{
 "cells": [
  {
   "cell_type": "code",
   "execution_count": 520,
   "metadata": {},
   "outputs": [
    {
     "data": {
      "image/png": "[encoded data removed]",
      "text/html": [
       "<div style=\"vertical-align: middle;\"><strong>Spectral</strong> </div><div class=\"cmap\"><img alt=\"Spectral colormap\" title=\"Spectral\" style=\"border: 1px solid #555;\" src=\"data:image/png;base64,iVBORw0KGgoAAAANSUhEUgAAAgAAAABACAYAAABsv8+/AAAAF3RFWHRUaXRsZQBTcGVjdHJhbCBjb2xvcm1hcI/oV9sAAAAddEVYdERlc2NyaXB0aW9uAFNwZWN0cmFsIGNvbG9ybWFwppaw8gAAADB0RVh0QXV0aG9yAE1hdHBsb3RsaWIgdjMuNS4wLCBodHRwczovL21hdHBsb3RsaWIub3JnUjxewQAAADJ0RVh0U29mdHdhcmUATWF0cGxvdGxpYiB2My41LjAsIGh0dHBzOi8vbWF0cGxvdGxpYi5vcmd8msHmAAACDklEQVR4nO3WO3KDMABFUQl2loVmp5gUCGaQzcgxSfXOaTT6AMZ2cet3/VpLKWWaStnGuo1zN9/3520+d/PR9fPgflfz+erzXN2vjfWYr6d57ed1fXnd07mpO1cH+xfPefdz7fcp7f1K+15qN9/36/GDDM4f69N5/bjP1Xzqrv/lfafuPlP3eYfrd6//m/X6/Ed5Pf7Vuf9+Xtneby2PNm7/w3UdzPfzaz9/91w3v/nc0vaXbSiPY6zdej3tL9389vnS7997Tv8+SzcO1x8fXvfp857W23ssbf6o53Gpr9dH+59e176PT++7tveY2gv3Y10u1vvz7Ye53h9df7H+7v4+FgAgjgAAgEACAAACCQAACCQAACCQAACAQAIAAAIJAAAIJAAAIJAAAIBAAgAAAgkAAAgkAAAgkAAAgEACAAACCQAACCQAACCQAACAQAIAAAIJAAAIJAAAIJAAAIBAAgAAAgkAAAgkAAAgkAAAgEACAAACCQAACCQAACCQAACAQAIAAAIJAAAIJAAAIJAAAIBAAgAAAgkAAAgkAAAgkAAAgEACAAACCQAACCQAACCQAACAQAIAAAIJAAAIJAAAIJAAAIBAAgAAAgkAAAgkAAAgkAAAgEACAAACCQAACCQAACCQAACAQAIAAAIJAAAIJAAAIJAAAIBAAgAAAgkAAAgkAAAgkAAAgEACAAAC/QB9nBLdjK/6iAAAAABJRU5ErkJggg==\"></div><div style=\"vertical-align: middle; max-width: 514px; display: flex; justify-content: space-between;\"><div style=\"float: left;\"><div title=\"#9e0142ff\" style=\"display: inline-block; width: 1em; height: 1em; margin: 0; vertical-align: middle; border: 1px solid #555; background-color: #9e0142ff;\"></div> under</div><div style=\"margin: 0 auto; display: inline-block;\">bad <div title=\"#00000000\" style=\"display: inline-block; width: 1em; height: 1em; margin: 0; vertical-align: middle; border: 1px solid #555; background-color: #00000000;\"></div></div><div style=\"float: right;\">over <div title=\"#5e4fa2ff\" style=\"display: inline-block; width: 1em; height: 1em; margin: 0; vertical-align: middle; border: 1px solid #555; background-color: #5e4fa2ff;\"></div></div>"
      ],
      "text/plain": [
       "<matplotlib.colors.LinearSegmentedColormap at 0x257886ee160>"
      ]
     },
     "execution_count": 520,
     "metadata": {},
     "output_type": "execute_result"
    }
   ],
   "source": [
    "import pandas as pd\n",
    "import numpy as np\n",
    "import matplotlib.pyplot as plt\n",
    "import seaborn as sns\n",
    "sns.color_palette(\"Spectral\", as_cmap=True)"
   ]
  },
  {
   "cell_type": "code",
   "execution_count": 521,
   "metadata": {},
   "outputs": [],
   "source": [
    "# Load and preprocess data\n",
    "books_path = \"BX-Books.csv\"\n",
    "ratings_path = \"BX-Book-Ratings.csv\"\n",
    "\n",
    "df_books = pd.read_csv(\n",
    "    books_path,\n",
    "    encoding = \"ISO-8859-1\",\n",
    "    sep=\";\",\n",
    "    header=0,\n",
    "    names=['isbn', 'title', 'author'],\n",
    "    usecols=['isbn', 'title', 'author'],\n",
    "    dtype={'isbn': 'str', 'title': 'str', 'author': 'str'})\n",
    "\n",
    "df_ratings = pd.read_csv(\n",
    "    ratings_path,\n",
    "    encoding = \"ISO-8859-1\",\n",
    "    sep=\";\",\n",
    "    header=0,\n",
    "    names=['user', 'isbn', 'rating'],\n",
    "    usecols=['user', 'isbn', 'rating'],\n",
    "    dtype={'user': 'int32', 'isbn': 'str', 'rating': 'float32'})"
   ]
  },
  {
   "cell_type": "code",
   "execution_count": 522,
   "metadata": {},
   "outputs": [
    {
     "name": "stdout",
     "output_type": "stream",
     "text": [
      "have:271379 rows and 3 columns\n",
      "have:1149780 rows and 3 columns\n"
     ]
    }
   ],
   "source": [
    "df_list = [df_books,df_ratings]\n",
    "def dataset_shapes(df_list):\n",
    "    for df in df_list:\n",
    "        print(f\"have:{df.shape[0]} rows and {df.shape[1]} columns\")\n",
    "dataset_shapes(df_list)"
   ]
  },
  {
   "cell_type": "markdown",
   "metadata": {},
   "source": [
    "### Books dataset exploration\n"
   ]
  },
  {
   "cell_type": "code",
   "execution_count": 523,
   "metadata": {},
   "outputs": [
    {
     "data": {
      "text/html": [
       "<div>\n",
       "<style scoped>\n",
       "    .dataframe tbody tr th:only-of-type {\n",
       "        vertical-align: middle;\n",
       "    }\n",
       "\n",
       "    .dataframe tbody tr th {\n",
       "        vertical-align: top;\n",
       "    }\n",
       "\n",
       "    .dataframe thead th {\n",
       "        text-align: right;\n",
       "    }\n",
       "</style>\n",
       "<table border=\"1\" class=\"dataframe\">\n",
       "  <thead>\n",
       "    <tr style=\"text-align: right;\">\n",
       "      <th></th>\n",
       "      <th>isbn</th>\n",
       "      <th>title</th>\n",
       "      <th>author</th>\n",
       "    </tr>\n",
       "  </thead>\n",
       "  <tbody>\n",
       "    <tr>\n",
       "      <th>0</th>\n",
       "      <td>0195153448</td>\n",
       "      <td>Classical Mythology</td>\n",
       "      <td>Mark P. O. Morford</td>\n",
       "    </tr>\n",
       "    <tr>\n",
       "      <th>1</th>\n",
       "      <td>0002005018</td>\n",
       "      <td>Clara Callan</td>\n",
       "      <td>Richard Bruce Wright</td>\n",
       "    </tr>\n",
       "    <tr>\n",
       "      <th>2</th>\n",
       "      <td>0060973129</td>\n",
       "      <td>Decision in Normandy</td>\n",
       "      <td>Carlo D'Este</td>\n",
       "    </tr>\n",
       "    <tr>\n",
       "      <th>3</th>\n",
       "      <td>0374157065</td>\n",
       "      <td>Flu: The Story of the Great Influenza Pandemic...</td>\n",
       "      <td>Gina Bari Kolata</td>\n",
       "    </tr>\n",
       "    <tr>\n",
       "      <th>4</th>\n",
       "      <td>0393045218</td>\n",
       "      <td>The Mummies of Urumchi</td>\n",
       "      <td>E. J. W. Barber</td>\n",
       "    </tr>\n",
       "  </tbody>\n",
       "</table>\n",
       "</div>"
      ],
      "text/plain": [
       "         isbn                                              title  \\\n",
       "0  0195153448                                Classical Mythology   \n",
       "1  0002005018                                       Clara Callan   \n",
       "2  0060973129                               Decision in Normandy   \n",
       "3  0374157065  Flu: The Story of the Great Influenza Pandemic...   \n",
       "4  0393045218                             The Mummies of Urumchi   \n",
       "\n",
       "                 author  \n",
       "0    Mark P. O. Morford  \n",
       "1  Richard Bruce Wright  \n",
       "2          Carlo D'Este  \n",
       "3      Gina Bari Kolata  \n",
       "4       E. J. W. Barber  "
      ]
     },
     "execution_count": 523,
     "metadata": {},
     "output_type": "execute_result"
    }
   ],
   "source": [
    "df_books.head()"
   ]
  },
  {
   "cell_type": "code",
   "execution_count": 524,
   "metadata": {},
   "outputs": [
    {
     "name": "stdout",
     "output_type": "stream",
     "text": [
      "<class 'pandas.core.frame.DataFrame'>\n",
      "RangeIndex: 271379 entries, 0 to 271378\n",
      "Data columns (total 3 columns):\n",
      " #   Column  Non-Null Count   Dtype \n",
      "---  ------  --------------   ----- \n",
      " 0   isbn    271379 non-null  object\n",
      " 1   title   271379 non-null  object\n",
      " 2   author  271378 non-null  object\n",
      "dtypes: object(3)\n",
      "memory usage: 6.2+ MB\n"
     ]
    }
   ],
   "source": [
    "df_books.info()"
   ]
  },
  {
   "cell_type": "code",
   "execution_count": 525,
   "metadata": {},
   "outputs": [
    {
     "data": {
      "text/plain": [
       "Agatha Christie          632\n",
       "William Shakespeare      567\n",
       "Stephen King             524\n",
       "Ann M. Martin            423\n",
       "Carolyn Keene            373\n",
       "Francine Pascal          372\n",
       "Isaac Asimov             330\n",
       "Nora Roberts             315\n",
       "Barbara Cartland         307\n",
       "Charles Dickens          302\n",
       "Not Applicable (Na )     286\n",
       "R. L. Stine              282\n",
       "Mark Twain               231\n",
       "Jane Austen              223\n",
       "Terry Pratchett          220\n",
       "Mary Higgins Clark       218\n",
       "Piers Anthony            217\n",
       "Marion Zimmer Bradley    216\n",
       "Janet Dailey             214\n",
       "Franklin W. Dixon        204\n",
       "Name: author, dtype: int64"
      ]
     },
     "execution_count": 525,
     "metadata": {},
     "output_type": "execute_result"
    }
   ],
   "source": [
    "# get top 20 authors\n",
    "\n",
    "df_books.author.value_counts().nlargest(20)\n",
    "\n"
   ]
  },
  {
   "cell_type": "code",
   "execution_count": 526,
   "metadata": {},
   "outputs": [
    {
     "name": "stderr",
     "output_type": "stream",
     "text": [
      "f:\\#My Python\\Django Projects\\My Projects\\BookRecommender\\env\\lib\\site-packages\\seaborn\\_decorators.py:36: FutureWarning: Pass the following variables as keyword args: x, y. From version 0.12, the only valid positional argument will be `data`, and passing other arguments without an explicit keyword will result in an error or misinterpretation.\n",
      "  warnings.warn(\n"
     ]
    },
    {
     "data": {
      "text/plain": [
       "Text(0, 0.5, 'Authors')"
      ]
     },
     "execution_count": 526,
     "metadata": {},
     "output_type": "execute_result"
    },
    {
     "data": {
      "image/png": "[encoded data removed]",
      "text/plain": [
       "<Figure size 720x576 with 1 Axes>"
      ]
     },
     "metadata": {
      "needs_background": "light"
     },
     "output_type": "display_data"
    }
   ],
   "source": [
    "best_authors = df_books.groupby('author')['title'].count().reset_index().sort_values(\"title\",ascending=False).set_index(\"author\").head(10)\n",
    "plt.figure(figsize=(10,8))\n",
    "bar_chart = sns.barplot(best_authors.title,best_authors.index, palette=\"Spectral\" )\n",
    "bar_chart.set_title(\"Top 10 authors by number of books\")\n",
    "bar_chart.set_xlabel(\"# of books\")\n",
    "bar_chart.set_ylabel(\"Authors\")\n",
    "\n",
    "\n"
   ]
  },
  {
   "cell_type": "code",
   "execution_count": 527,
   "metadata": {},
   "outputs": [
    {
     "data": {
      "text/plain": [
       "(271379, 3)"
      ]
     },
     "execution_count": 527,
     "metadata": {},
     "output_type": "execute_result"
    }
   ],
   "source": [
    "df_books.shape"
   ]
  },
  {
   "cell_type": "markdown",
   "metadata": {},
   "source": [
    "### Rating Dataset exploration"
   ]
  },
  {
   "cell_type": "code",
   "execution_count": 528,
   "metadata": {},
   "outputs": [
    {
     "name": "stdout",
     "output_type": "stream",
     "text": [
      "<class 'pandas.core.frame.DataFrame'>\n",
      "RangeIndex: 1149780 entries, 0 to 1149779\n",
      "Data columns (total 3 columns):\n",
      " #   Column  Non-Null Count    Dtype  \n",
      "---  ------  --------------    -----  \n",
      " 0   user    1149780 non-null  int32  \n",
      " 1   isbn    1149780 non-null  object \n",
      " 2   rating  1149780 non-null  float32\n",
      "dtypes: float32(1), int32(1), object(1)\n",
      "memory usage: 17.5+ MB\n"
     ]
    }
   ],
   "source": [
    "df_ratings.info()"
   ]
  },
  {
   "cell_type": "code",
   "execution_count": 529,
   "metadata": {},
   "outputs": [
    {
     "data": {
      "text/html": [
       "<div>\n",
       "<style scoped>\n",
       "    .dataframe tbody tr th:only-of-type {\n",
       "        vertical-align: middle;\n",
       "    }\n",
       "\n",
       "    .dataframe tbody tr th {\n",
       "        vertical-align: top;\n",
       "    }\n",
       "\n",
       "    .dataframe thead th {\n",
       "        text-align: right;\n",
       "    }\n",
       "</style>\n",
       "<table border=\"1\" class=\"dataframe\">\n",
       "  <thead>\n",
       "    <tr style=\"text-align: right;\">\n",
       "      <th></th>\n",
       "      <th>user</th>\n",
       "      <th>isbn</th>\n",
       "      <th>rating</th>\n",
       "    </tr>\n",
       "  </thead>\n",
       "  <tbody>\n",
       "    <tr>\n",
       "      <th>0</th>\n",
       "      <td>276725</td>\n",
       "      <td>034545104X</td>\n",
       "      <td>0.0</td>\n",
       "    </tr>\n",
       "    <tr>\n",
       "      <th>1</th>\n",
       "      <td>276726</td>\n",
       "      <td>0155061224</td>\n",
       "      <td>5.0</td>\n",
       "    </tr>\n",
       "    <tr>\n",
       "      <th>2</th>\n",
       "      <td>276727</td>\n",
       "      <td>0446520802</td>\n",
       "      <td>0.0</td>\n",
       "    </tr>\n",
       "    <tr>\n",
       "      <th>3</th>\n",
       "      <td>276729</td>\n",
       "      <td>052165615X</td>\n",
       "      <td>3.0</td>\n",
       "    </tr>\n",
       "    <tr>\n",
       "      <th>4</th>\n",
       "      <td>276729</td>\n",
       "      <td>0521795028</td>\n",
       "      <td>6.0</td>\n",
       "    </tr>\n",
       "    <tr>\n",
       "      <th>5</th>\n",
       "      <td>276733</td>\n",
       "      <td>2080674722</td>\n",
       "      <td>0.0</td>\n",
       "    </tr>\n",
       "    <tr>\n",
       "      <th>6</th>\n",
       "      <td>276736</td>\n",
       "      <td>3257224281</td>\n",
       "      <td>8.0</td>\n",
       "    </tr>\n",
       "    <tr>\n",
       "      <th>7</th>\n",
       "      <td>276737</td>\n",
       "      <td>0600570967</td>\n",
       "      <td>6.0</td>\n",
       "    </tr>\n",
       "    <tr>\n",
       "      <th>8</th>\n",
       "      <td>276744</td>\n",
       "      <td>038550120X</td>\n",
       "      <td>7.0</td>\n",
       "    </tr>\n",
       "    <tr>\n",
       "      <th>9</th>\n",
       "      <td>276745</td>\n",
       "      <td>342310538</td>\n",
       "      <td>10.0</td>\n",
       "    </tr>\n",
       "  </tbody>\n",
       "</table>\n",
       "</div>"
      ],
      "text/plain": [
       "     user        isbn  rating\n",
       "0  276725  034545104X     0.0\n",
       "1  276726  0155061224     5.0\n",
       "2  276727  0446520802     0.0\n",
       "3  276729  052165615X     3.0\n",
       "4  276729  0521795028     6.0\n",
       "5  276733  2080674722     0.0\n",
       "6  276736  3257224281     8.0\n",
       "7  276737  0600570967     6.0\n",
       "8  276744  038550120X     7.0\n",
       "9  276745   342310538    10.0"
      ]
     },
     "execution_count": 529,
     "metadata": {},
     "output_type": "execute_result"
    }
   ],
   "source": [
    "df_ratings.head(10)"
   ]
  },
  {
   "cell_type": "code",
   "execution_count": 530,
   "metadata": {},
   "outputs": [
    {
     "data": {
      "image/png": "[encoded data removed]",
      "text/plain": [
       "<Figure size 720x576 with 1 Axes>"
      ]
     },
     "metadata": {
      "needs_background": "light"
     },
     "output_type": "display_data"
    }
   ],
   "source": [
    "#plot distribution of ratings\n",
    "plt.figure(figsize=(10,8))\n",
    "plt.hist(df_ratings[\"rating\"], color=\"orange\", alpha=0.55)\n",
    "plt.grid(True)\n",
    "plt.xlabel(\"Ratings\")\n",
    "plt.ylabel(\"Count of Ratings\")\n",
    "plt.title(\"Books Rating Distribution\")\n",
    "plt.show()"
   ]
  },
  {
   "cell_type": "code",
   "execution_count": 531,
   "metadata": {},
   "outputs": [
    {
     "data": {
      "text/plain": [
       "0.0     716109\n",
       "8.0     103736\n",
       "10.0     78610\n",
       "7.0      76457\n",
       "9.0      67541\n",
       "5.0      50974\n",
       "6.0      36924\n",
       "4.0       8904\n",
       "3.0       5996\n",
       "2.0       2759\n",
       "1.0       1770\n",
       "Name: rating, dtype: int64"
      ]
     },
     "execution_count": 531,
     "metadata": {},
     "output_type": "execute_result"
    }
   ],
   "source": [
    "ratings_dist = df_ratings[\"rating\"].value_counts()\n",
    "ratings_dist"
   ]
  },
  {
   "cell_type": "code",
   "execution_count": 532,
   "metadata": {},
   "outputs": [
    {
     "data": {
      "image/png": "[encoded data removed]",
      "text/plain": [
       "<Figure size 720x576 with 1 Axes>"
      ]
     },
     "metadata": {
      "needs_background": "light"
     },
     "output_type": "display_data"
    }
   ],
   "source": [
    "# get user records only with rating >0\n",
    "df_cleaned_ratings = df_ratings[df_ratings.rating != 0]\n",
    "plt.figure(figsize=(10,8))\n",
    "plt.hist(df_cleaned_ratings[\"rating\"],color=\"blue\", alpha=0.55)\n",
    "plt.grid(True)\n",
    "plt.xlabel(\"Ratings\")\n",
    "plt.ylabel(\"Count of Ratings\")\n",
    "plt.title(\"Books Rating Distribution\")\n",
    "plt.show()"
   ]
  },
  {
   "cell_type": "code",
   "execution_count": 533,
   "metadata": {},
   "outputs": [
    {
     "data": {
      "text/plain": [
       "11676     8524\n",
       "98391     5802\n",
       "153662    1969\n",
       "189835    1906\n",
       "23902     1395\n",
       "          ... \n",
       "114079       1\n",
       "114081       1\n",
       "114096       1\n",
       "114115       1\n",
       "276723       1\n",
       "Name: user, Length: 77805, dtype: int64"
      ]
     },
     "execution_count": 533,
     "metadata": {},
     "output_type": "execute_result"
    }
   ],
   "source": [
    "# get the number of ratings of every user\n",
    "df_cleaned_ratings[\"user\"].value_counts()"
   ]
  },
  {
   "cell_type": "code",
   "execution_count": 534,
   "metadata": {},
   "outputs": [
    {
     "data": {
      "text/plain": [
       "(216116, 3)"
      ]
     },
     "execution_count": 534,
     "metadata": {},
     "output_type": "execute_result"
    }
   ],
   "source": [
    "#select users which gives more than x ratings\n",
    "rating_treshold = 30\n",
    "# mask\n",
    "valid_users = df_cleaned_ratings[\"user\"].value_counts() >= rating_treshold\n",
    "#create index for DataFrame from valid users\n",
    "user_index = valid_users[valid_users].index\n",
    "user_index.shape\n",
    "# Construct dataset with valid users which gives more than 100 ratings\n",
    "df_cleaned_ratings = df_cleaned_ratings[df_cleaned_ratings[\"user\"].isin(user_index)] \n",
    "df_cleaned_ratings.shape"
   ]
  },
  {
   "cell_type": "code",
   "execution_count": 535,
   "metadata": {},
   "outputs": [
    {
     "data": {
      "text/plain": [
       "11676     8524\n",
       "98391     5802\n",
       "153662    1969\n",
       "189835    1906\n",
       "23902     1395\n",
       "          ... \n",
       "11718       30\n",
       "72523       30\n",
       "171818      30\n",
       "106173      30\n",
       "88122       30\n",
       "Name: user, Length: 2413, dtype: int64"
      ]
     },
     "execution_count": 535,
     "metadata": {},
     "output_type": "execute_result"
    }
   ],
   "source": [
    "# check if its correct\n",
    "df_cleaned_ratings[\"user\"].value_counts()"
   ]
  },
  {
   "cell_type": "markdown",
   "metadata": {},
   "source": [
    "### Merge Ratings and Books data"
   ]
  },
  {
   "cell_type": "code",
   "execution_count": 536,
   "metadata": {},
   "outputs": [
    {
     "name": "stdout",
     "output_type": "stream",
     "text": [
      "<class 'pandas.core.frame.DataFrame'>\n",
      "Int64Index: 195625 entries, 0 to 195624\n",
      "Data columns (total 5 columns):\n",
      " #   Column  Non-Null Count   Dtype  \n",
      "---  ------  --------------   -----  \n",
      " 0   user    195625 non-null  int32  \n",
      " 1   isbn    195625 non-null  object \n",
      " 2   rating  195625 non-null  float32\n",
      " 3   title   195625 non-null  object \n",
      " 4   author  195624 non-null  object \n",
      "dtypes: float32(1), int32(1), object(3)\n",
      "memory usage: 7.5+ MB\n"
     ]
    }
   ],
   "source": [
    "clean_dataset = df_cleaned_ratings.merge(df_books, on=\"isbn\")\n",
    "clean_dataset.info()"
   ]
  },
  {
   "cell_type": "code",
   "execution_count": 537,
   "metadata": {},
   "outputs": [
    {
     "data": {
      "text/html": [
       "<div>\n",
       "<style scoped>\n",
       "    .dataframe tbody tr th:only-of-type {\n",
       "        vertical-align: middle;\n",
       "    }\n",
       "\n",
       "    .dataframe tbody tr th {\n",
       "        vertical-align: top;\n",
       "    }\n",
       "\n",
       "    .dataframe thead th {\n",
       "        text-align: right;\n",
       "    }\n",
       "</style>\n",
       "<table border=\"1\" class=\"dataframe\">\n",
       "  <thead>\n",
       "    <tr style=\"text-align: right;\">\n",
       "      <th></th>\n",
       "      <th>user</th>\n",
       "      <th>rating</th>\n",
       "    </tr>\n",
       "  </thead>\n",
       "  <tbody>\n",
       "    <tr>\n",
       "      <th>count</th>\n",
       "      <td>195625.000000</td>\n",
       "      <td>195625.000000</td>\n",
       "    </tr>\n",
       "    <tr>\n",
       "      <th>mean</th>\n",
       "      <td>133226.664930</td>\n",
       "      <td>7.785206</td>\n",
       "    </tr>\n",
       "    <tr>\n",
       "      <th>std</th>\n",
       "      <td>80371.542785</td>\n",
       "      <td>1.811781</td>\n",
       "    </tr>\n",
       "    <tr>\n",
       "      <th>min</th>\n",
       "      <td>183.000000</td>\n",
       "      <td>1.000000</td>\n",
       "    </tr>\n",
       "    <tr>\n",
       "      <th>25%</th>\n",
       "      <td>66574.000000</td>\n",
       "      <td>7.000000</td>\n",
       "    </tr>\n",
       "    <tr>\n",
       "      <th>50%</th>\n",
       "      <td>128835.000000</td>\n",
       "      <td>8.000000</td>\n",
       "    </tr>\n",
       "    <tr>\n",
       "      <th>75%</th>\n",
       "      <td>203280.000000</td>\n",
       "      <td>9.000000</td>\n",
       "    </tr>\n",
       "    <tr>\n",
       "      <th>max</th>\n",
       "      <td>278633.000000</td>\n",
       "      <td>10.000000</td>\n",
       "    </tr>\n",
       "  </tbody>\n",
       "</table>\n",
       "</div>"
      ],
      "text/plain": [
       "                user         rating\n",
       "count  195625.000000  195625.000000\n",
       "mean   133226.664930       7.785206\n",
       "std     80371.542785       1.811781\n",
       "min       183.000000       1.000000\n",
       "25%     66574.000000       7.000000\n",
       "50%    128835.000000       8.000000\n",
       "75%    203280.000000       9.000000\n",
       "max    278633.000000      10.000000"
      ]
     },
     "execution_count": 537,
     "metadata": {},
     "output_type": "execute_result"
    }
   ],
   "source": [
    "clean_dataset.describe()"
   ]
  },
  {
   "cell_type": "code",
   "execution_count": 538,
   "metadata": {},
   "outputs": [
    {
     "data": {
      "text/html": [
       "<div>\n",
       "<style scoped>\n",
       "    .dataframe tbody tr th:only-of-type {\n",
       "        vertical-align: middle;\n",
       "    }\n",
       "\n",
       "    .dataframe tbody tr th {\n",
       "        vertical-align: top;\n",
       "    }\n",
       "\n",
       "    .dataframe thead th {\n",
       "        text-align: right;\n",
       "    }\n",
       "</style>\n",
       "<table border=\"1\" class=\"dataframe\">\n",
       "  <thead>\n",
       "    <tr style=\"text-align: right;\">\n",
       "      <th></th>\n",
       "      <th>user</th>\n",
       "      <th>isbn</th>\n",
       "      <th>rating</th>\n",
       "      <th>title</th>\n",
       "      <th>author</th>\n",
       "    </tr>\n",
       "  </thead>\n",
       "  <tbody>\n",
       "    <tr>\n",
       "      <th>0</th>\n",
       "      <td>276847</td>\n",
       "      <td>3404145909</td>\n",
       "      <td>8.0</td>\n",
       "      <td>Der Stein der Kelten.</td>\n",
       "      <td>Michael Phillips</td>\n",
       "    </tr>\n",
       "    <tr>\n",
       "      <th>1</th>\n",
       "      <td>276847</td>\n",
       "      <td>3404148576</td>\n",
       "      <td>8.0</td>\n",
       "      <td>Nordermoor</td>\n",
       "      <td>Arnaldur Indridason</td>\n",
       "    </tr>\n",
       "    <tr>\n",
       "      <th>2</th>\n",
       "      <td>30810</td>\n",
       "      <td>3404148576</td>\n",
       "      <td>9.0</td>\n",
       "      <td>Nordermoor</td>\n",
       "      <td>Arnaldur Indridason</td>\n",
       "    </tr>\n",
       "    <tr>\n",
       "      <th>3</th>\n",
       "      <td>132500</td>\n",
       "      <td>3404148576</td>\n",
       "      <td>6.0</td>\n",
       "      <td>Nordermoor</td>\n",
       "      <td>Arnaldur Indridason</td>\n",
       "    </tr>\n",
       "    <tr>\n",
       "      <th>4</th>\n",
       "      <td>276847</td>\n",
       "      <td>3404921178</td>\n",
       "      <td>7.0</td>\n",
       "      <td>Nur der Tod ist ohne Makel.</td>\n",
       "      <td>Ann Granger</td>\n",
       "    </tr>\n",
       "    <tr>\n",
       "      <th>5</th>\n",
       "      <td>11676</td>\n",
       "      <td>3404921178</td>\n",
       "      <td>8.0</td>\n",
       "      <td>Nur der Tod ist ohne Makel.</td>\n",
       "      <td>Ann Granger</td>\n",
       "    </tr>\n",
       "    <tr>\n",
       "      <th>6</th>\n",
       "      <td>140863</td>\n",
       "      <td>3404921178</td>\n",
       "      <td>6.0</td>\n",
       "      <td>Nur der Tod ist ohne Makel.</td>\n",
       "      <td>Ann Granger</td>\n",
       "    </tr>\n",
       "    <tr>\n",
       "      <th>7</th>\n",
       "      <td>276847</td>\n",
       "      <td>3423071516</td>\n",
       "      <td>10.0</td>\n",
       "      <td>Der Kleine Hobbit</td>\n",
       "      <td>J. R. R. Tolkien</td>\n",
       "    </tr>\n",
       "    <tr>\n",
       "      <th>8</th>\n",
       "      <td>276847</td>\n",
       "      <td>3426671298</td>\n",
       "      <td>8.0</td>\n",
       "      <td>Das geheime ABC der Toten.</td>\n",
       "      <td>Patricia Cornwell</td>\n",
       "    </tr>\n",
       "    <tr>\n",
       "      <th>9</th>\n",
       "      <td>276847</td>\n",
       "      <td>344215121X</td>\n",
       "      <td>9.0</td>\n",
       "      <td>Hitlers Kinder.</td>\n",
       "      <td>Guido Knopp</td>\n",
       "    </tr>\n",
       "    <tr>\n",
       "      <th>10</th>\n",
       "      <td>276847</td>\n",
       "      <td>3442413508</td>\n",
       "      <td>10.0</td>\n",
       "      <td>Auf Ehre und Gewissen. Roman.</td>\n",
       "      <td>Elizabeth George</td>\n",
       "    </tr>\n",
       "    <tr>\n",
       "      <th>11</th>\n",
       "      <td>28537</td>\n",
       "      <td>3442413508</td>\n",
       "      <td>7.0</td>\n",
       "      <td>Auf Ehre und Gewissen. Roman.</td>\n",
       "      <td>Elizabeth George</td>\n",
       "    </tr>\n",
       "    <tr>\n",
       "      <th>12</th>\n",
       "      <td>140080</td>\n",
       "      <td>3442413508</td>\n",
       "      <td>9.0</td>\n",
       "      <td>Auf Ehre und Gewissen. Roman.</td>\n",
       "      <td>Elizabeth George</td>\n",
       "    </tr>\n",
       "    <tr>\n",
       "      <th>13</th>\n",
       "      <td>276847</td>\n",
       "      <td>3442422035</td>\n",
       "      <td>9.0</td>\n",
       "      <td>Keiner werfe den ersten Stein. Roman.</td>\n",
       "      <td>Elizabeth George</td>\n",
       "    </tr>\n",
       "    <tr>\n",
       "      <th>14</th>\n",
       "      <td>28537</td>\n",
       "      <td>3442422035</td>\n",
       "      <td>8.0</td>\n",
       "      <td>Keiner werfe den ersten Stein. Roman.</td>\n",
       "      <td>Elizabeth George</td>\n",
       "    </tr>\n",
       "    <tr>\n",
       "      <th>15</th>\n",
       "      <td>276847</td>\n",
       "      <td>3442435773</td>\n",
       "      <td>8.0</td>\n",
       "      <td>Denn keiner ist ohne Schuld.</td>\n",
       "      <td>Elizabeth George</td>\n",
       "    </tr>\n",
       "    <tr>\n",
       "      <th>16</th>\n",
       "      <td>140080</td>\n",
       "      <td>3442435773</td>\n",
       "      <td>9.0</td>\n",
       "      <td>Denn keiner ist ohne Schuld.</td>\n",
       "      <td>Elizabeth George</td>\n",
       "    </tr>\n",
       "    <tr>\n",
       "      <th>17</th>\n",
       "      <td>276847</td>\n",
       "      <td>3442437717</td>\n",
       "      <td>7.0</td>\n",
       "      <td>Asche zu Asche.</td>\n",
       "      <td>Elizabeth George</td>\n",
       "    </tr>\n",
       "    <tr>\n",
       "      <th>18</th>\n",
       "      <td>11676</td>\n",
       "      <td>3442437717</td>\n",
       "      <td>7.0</td>\n",
       "      <td>Asche zu Asche.</td>\n",
       "      <td>Elizabeth George</td>\n",
       "    </tr>\n",
       "    <tr>\n",
       "      <th>19</th>\n",
       "      <td>28537</td>\n",
       "      <td>3442437717</td>\n",
       "      <td>9.0</td>\n",
       "      <td>Asche zu Asche.</td>\n",
       "      <td>Elizabeth George</td>\n",
       "    </tr>\n",
       "  </tbody>\n",
       "</table>\n",
       "</div>"
      ],
      "text/plain": [
       "      user        isbn  rating                                  title  \\\n",
       "0   276847  3404145909     8.0                  Der Stein der Kelten.   \n",
       "1   276847  3404148576     8.0                             Nordermoor   \n",
       "2    30810  3404148576     9.0                             Nordermoor   \n",
       "3   132500  3404148576     6.0                             Nordermoor   \n",
       "4   276847  3404921178     7.0            Nur der Tod ist ohne Makel.   \n",
       "5    11676  3404921178     8.0            Nur der Tod ist ohne Makel.   \n",
       "6   140863  3404921178     6.0            Nur der Tod ist ohne Makel.   \n",
       "7   276847  3423071516    10.0                      Der Kleine Hobbit   \n",
       "8   276847  3426671298     8.0             Das geheime ABC der Toten.   \n",
       "9   276847  344215121X     9.0                        Hitlers Kinder.   \n",
       "10  276847  3442413508    10.0          Auf Ehre und Gewissen. Roman.   \n",
       "11   28537  3442413508     7.0          Auf Ehre und Gewissen. Roman.   \n",
       "12  140080  3442413508     9.0          Auf Ehre und Gewissen. Roman.   \n",
       "13  276847  3442422035     9.0  Keiner werfe den ersten Stein. Roman.   \n",
       "14   28537  3442422035     8.0  Keiner werfe den ersten Stein. Roman.   \n",
       "15  276847  3442435773     8.0           Denn keiner ist ohne Schuld.   \n",
       "16  140080  3442435773     9.0           Denn keiner ist ohne Schuld.   \n",
       "17  276847  3442437717     7.0                        Asche zu Asche.   \n",
       "18   11676  3442437717     7.0                        Asche zu Asche.   \n",
       "19   28537  3442437717     9.0                        Asche zu Asche.   \n",
       "\n",
       "                 author  \n",
       "0      Michael Phillips  \n",
       "1   Arnaldur Indridason  \n",
       "2   Arnaldur Indridason  \n",
       "3   Arnaldur Indridason  \n",
       "4           Ann Granger  \n",
       "5           Ann Granger  \n",
       "6           Ann Granger  \n",
       "7      J. R. R. Tolkien  \n",
       "8     Patricia Cornwell  \n",
       "9           Guido Knopp  \n",
       "10     Elizabeth George  \n",
       "11     Elizabeth George  \n",
       "12     Elizabeth George  \n",
       "13     Elizabeth George  \n",
       "14     Elizabeth George  \n",
       "15     Elizabeth George  \n",
       "16     Elizabeth George  \n",
       "17     Elizabeth George  \n",
       "18     Elizabeth George  \n",
       "19     Elizabeth George  "
      ]
     },
     "execution_count": 538,
     "metadata": {},
     "output_type": "execute_result"
    }
   ],
   "source": [
    "clean_dataset.head(20)"
   ]
  },
  {
   "cell_type": "code",
   "execution_count": 539,
   "metadata": {},
   "outputs": [
    {
     "name": "stdout",
     "output_type": "stream",
     "text": [
      "                                                   title  rating_counts\n",
      "0       A Light in the Storm: The Civil War Diary of ...              1\n",
      "1       Ask Lily (Young Women of Faith: Lily Series, ...              1\n",
      "2                                           Dark Justice              1\n",
      "3       Earth Prayers From around the World: 365 Pray...              5\n",
      "4       Final Fantasy Anthology: Official Strategy Gu...              2\n",
      "...                                                  ...            ...\n",
      "93563          Ã?Â?ber den ProzeÃ?Â? der Zivilisation 2.              1\n",
      "93564                              Ã?Â?ber die Freiheit.              1\n",
      "93565  Ã?Â?berallnie. AusgewÃ?Â¤hlte Gedichte 1928 - ...              1\n",
      "93566                     Ã?Â?rger mit Produkt X. Roman.              2\n",
      "93567                                  Ã?Â?thique en toc              1\n",
      "\n",
      "[93568 rows x 2 columns]\n"
     ]
    }
   ],
   "source": [
    "#get rating counts for every title from all valid users and reset index\n",
    "count_rating = clean_dataset.groupby('title')['rating'].count().reset_index()\n",
    "count_rating.rename(columns={\"rating\":\"rating_counts\"}, inplace=True)\n",
    "print(count_rating)"
   ]
  },
  {
   "cell_type": "markdown",
   "metadata": {},
   "source": [
    "### Lookup for most rated books in dataset"
   ]
  },
  {
   "cell_type": "code",
   "execution_count": 540,
   "metadata": {},
   "outputs": [
    {
     "name": "stderr",
     "output_type": "stream",
     "text": [
      "f:\\#My Python\\Django Projects\\My Projects\\BookRecommender\\env\\lib\\site-packages\\seaborn\\_decorators.py:36: FutureWarning: Pass the following variables as keyword args: x, y. From version 0.12, the only valid positional argument will be `data`, and passing other arguments without an explicit keyword will result in an error or misinterpretation.\n",
      "  warnings.warn(\n"
     ]
    },
    {
     "data": {
      "text/plain": [
       "Text(0, 0.5, 'Books')"
      ]
     },
     "execution_count": 540,
     "metadata": {},
     "output_type": "execute_result"
    },
    {
     "data": {
      "image/png": "[encoded data removed]",
      "text/plain": [
       "<Figure size 720x576 with 1 Axes>"
      ]
     },
     "metadata": {
      "needs_background": "light"
     },
     "output_type": "display_data"
    }
   ],
   "source": [
    "#get rating counts for every title from all valid users and reset index\n",
    "most_rated = clean_dataset.groupby('title')['rating'].count().reset_index().sort_values(\"rating\",ascending=False).set_index(\"title\").head(25)\n",
    "most_rated.rename(columns={\"rating\":\"rating_counts\"}, inplace=True)\n",
    "\n",
    "plt.figure(figsize=(10,8))\n",
    "plt.grid(True)\n",
    "bar_chart = sns.barplot(most_rated.rating_counts,most_rated.index, palette=\"Spectral\" )\n",
    "bar_chart.set_title(\"25 Most Rated Books by Title\")\n",
    "bar_chart.set_xlabel(\"# of ratings\")\n",
    "bar_chart.set_ylabel(\"Books\")"
   ]
  },
  {
   "cell_type": "markdown",
   "metadata": {},
   "source": [
    "### Create finanl dataset for recommending engine"
   ]
  },
  {
   "cell_type": "code",
   "execution_count": 541,
   "metadata": {},
   "outputs": [],
   "source": [
    "#mask_2 = count_rating[\"rating_counts\"] >= 10\n",
    "#new_df = count_rating[mask_2].reset_index()\n",
    "\n"
   ]
  },
  {
   "cell_type": "code",
   "execution_count": null,
   "metadata": {},
   "outputs": [],
   "source": []
  },
  {
   "cell_type": "code",
   "execution_count": 562,
   "metadata": {},
   "outputs": [
    {
     "data": {
      "text/plain": [
       "(195625, 6)"
      ]
     },
     "execution_count": 562,
     "metadata": {},
     "output_type": "execute_result"
    }
   ],
   "source": [
    "# get DataFrame with rating counts for every Book\n",
    "final_dataset = count_rating.merge(clean_dataset, on=\"title\")\n",
    "# get books with more than x rating counts\n",
    "mask_ratings = final_dataset[\"rating_counts\"] > 10\n",
    "final_dataset[mask_ratings].tail()\n",
    "final_dataset.shape"
   ]
  },
  {
   "cell_type": "code",
   "execution_count": 560,
   "metadata": {},
   "outputs": [],
   "source": [
    "final_dataset = final_dataset[mask_ratings]\n",
    "final_dataset.reset_index(inplace=True, drop=True)\n"
   ]
  },
  {
   "cell_type": "code",
   "execution_count": 662,
   "metadata": {},
   "outputs": [
    {
     "data": {
      "text/html": [
       "<div>\n",
       "<style scoped>\n",
       "    .dataframe tbody tr th:only-of-type {\n",
       "        vertical-align: middle;\n",
       "    }\n",
       "\n",
       "    .dataframe tbody tr th {\n",
       "        vertical-align: top;\n",
       "    }\n",
       "\n",
       "    .dataframe thead th {\n",
       "        text-align: right;\n",
       "    }\n",
       "</style>\n",
       "<table border=\"1\" class=\"dataframe\">\n",
       "  <thead>\n",
       "    <tr style=\"text-align: right;\">\n",
       "      <th></th>\n",
       "      <th>title</th>\n",
       "      <th>rating_counts</th>\n",
       "      <th>user</th>\n",
       "      <th>isbn</th>\n",
       "      <th>rating</th>\n",
       "      <th>author</th>\n",
       "    </tr>\n",
       "  </thead>\n",
       "  <tbody>\n",
       "    <tr>\n",
       "      <th>0</th>\n",
       "      <td>A Light in the Storm: The Civil War Diary of ...</td>\n",
       "      <td>1</td>\n",
       "      <td>96448</td>\n",
       "      <td>0590567330</td>\n",
       "      <td>9.0</td>\n",
       "      <td>Karen Hesse</td>\n",
       "    </tr>\n",
       "    <tr>\n",
       "      <th>1</th>\n",
       "      <td>Ask Lily (Young Women of Faith: Lily Series, ...</td>\n",
       "      <td>1</td>\n",
       "      <td>269557</td>\n",
       "      <td>0310232546</td>\n",
       "      <td>8.0</td>\n",
       "      <td>Nancy N. Rue</td>\n",
       "    </tr>\n",
       "    <tr>\n",
       "      <th>2</th>\n",
       "      <td>Dark Justice</td>\n",
       "      <td>1</td>\n",
       "      <td>98391</td>\n",
       "      <td>0399151788</td>\n",
       "      <td>10.0</td>\n",
       "      <td>Jack Higgins</td>\n",
       "    </tr>\n",
       "    <tr>\n",
       "      <th>3</th>\n",
       "      <td>Earth Prayers From around the World: 365 Pray...</td>\n",
       "      <td>5</td>\n",
       "      <td>26544</td>\n",
       "      <td>006250746X</td>\n",
       "      <td>9.0</td>\n",
       "      <td>Elizabeth Roberts</td>\n",
       "    </tr>\n",
       "    <tr>\n",
       "      <th>4</th>\n",
       "      <td>Earth Prayers From around the World: 365 Pray...</td>\n",
       "      <td>5</td>\n",
       "      <td>179730</td>\n",
       "      <td>006250746X</td>\n",
       "      <td>1.0</td>\n",
       "      <td>Elizabeth Roberts</td>\n",
       "    </tr>\n",
       "    <tr>\n",
       "      <th>...</th>\n",
       "      <td>...</td>\n",
       "      <td>...</td>\n",
       "      <td>...</td>\n",
       "      <td>...</td>\n",
       "      <td>...</td>\n",
       "      <td>...</td>\n",
       "    </tr>\n",
       "    <tr>\n",
       "      <th>195620</th>\n",
       "      <td>Ã?Â?ber die Freiheit.</td>\n",
       "      <td>1</td>\n",
       "      <td>12835</td>\n",
       "      <td>3150034914</td>\n",
       "      <td>7.0</td>\n",
       "      <td>John Stuart Mill</td>\n",
       "    </tr>\n",
       "    <tr>\n",
       "      <th>195621</th>\n",
       "      <td>Ã?Â?berallnie. AusgewÃ?Â¤hlte Gedichte 1928 - ...</td>\n",
       "      <td>1</td>\n",
       "      <td>263733</td>\n",
       "      <td>3423120150</td>\n",
       "      <td>10.0</td>\n",
       "      <td>Marie Luise Kaschnitz</td>\n",
       "    </tr>\n",
       "    <tr>\n",
       "      <th>195622</th>\n",
       "      <td>Ã?Â?rger mit Produkt X. Roman.</td>\n",
       "      <td>2</td>\n",
       "      <td>35407</td>\n",
       "      <td>325721538X</td>\n",
       "      <td>6.0</td>\n",
       "      <td>Joan Aiken</td>\n",
       "    </tr>\n",
       "    <tr>\n",
       "      <th>195623</th>\n",
       "      <td>Ã?Â?rger mit Produkt X. Roman.</td>\n",
       "      <td>2</td>\n",
       "      <td>133567</td>\n",
       "      <td>325721538X</td>\n",
       "      <td>8.0</td>\n",
       "      <td>Joan Aiken</td>\n",
       "    </tr>\n",
       "    <tr>\n",
       "      <th>195624</th>\n",
       "      <td>Ã?Â?thique en toc</td>\n",
       "      <td>1</td>\n",
       "      <td>25436</td>\n",
       "      <td>2842192508</td>\n",
       "      <td>8.0</td>\n",
       "      <td>Didier Daeninckx</td>\n",
       "    </tr>\n",
       "  </tbody>\n",
       "</table>\n",
       "<p>194683 rows × 6 columns</p>\n",
       "</div>"
      ],
      "text/plain": [
       "                                                    title  rating_counts  \\\n",
       "0        A Light in the Storm: The Civil War Diary of ...              1   \n",
       "1        Ask Lily (Young Women of Faith: Lily Series, ...              1   \n",
       "2                                            Dark Justice              1   \n",
       "3        Earth Prayers From around the World: 365 Pray...              5   \n",
       "4        Earth Prayers From around the World: 365 Pray...              5   \n",
       "...                                                   ...            ...   \n",
       "195620                              Ã?Â?ber die Freiheit.              1   \n",
       "195621  Ã?Â?berallnie. AusgewÃ?Â¤hlte Gedichte 1928 - ...              1   \n",
       "195622                     Ã?Â?rger mit Produkt X. Roman.              2   \n",
       "195623                     Ã?Â?rger mit Produkt X. Roman.              2   \n",
       "195624                                  Ã?Â?thique en toc              1   \n",
       "\n",
       "          user        isbn  rating                 author  \n",
       "0        96448  0590567330     9.0            Karen Hesse  \n",
       "1       269557  0310232546     8.0           Nancy N. Rue  \n",
       "2        98391  0399151788    10.0           Jack Higgins  \n",
       "3        26544  006250746X     9.0      Elizabeth Roberts  \n",
       "4       179730  006250746X     1.0      Elizabeth Roberts  \n",
       "...        ...         ...     ...                    ...  \n",
       "195620   12835  3150034914     7.0       John Stuart Mill  \n",
       "195621  263733  3423120150    10.0  Marie Luise Kaschnitz  \n",
       "195622   35407  325721538X     6.0             Joan Aiken  \n",
       "195623  133567  325721538X     8.0             Joan Aiken  \n",
       "195624   25436  2842192508     8.0       Didier Daeninckx  \n",
       "\n",
       "[194683 rows x 6 columns]"
      ]
     },
     "execution_count": 662,
     "metadata": {},
     "output_type": "execute_result"
    }
   ],
   "source": [
    "final_dataset"
   ]
  },
  {
   "cell_type": "code",
   "execution_count": 564,
   "metadata": {},
   "outputs": [
    {
     "data": {
      "text/plain": [
       "(194683, 6)"
      ]
     },
     "execution_count": 564,
     "metadata": {},
     "output_type": "execute_result"
    }
   ],
   "source": [
    "# drop duplicate rating by same user\n",
    "final_dataset.drop_duplicates([\"user\",\"title\"], inplace=True)\n",
    "final_dataset.shape"
   ]
  },
  {
   "cell_type": "code",
   "execution_count": 565,
   "metadata": {},
   "outputs": [
    {
     "data": {
      "text/html": [
       "<div>\n",
       "<style scoped>\n",
       "    .dataframe tbody tr th:only-of-type {\n",
       "        vertical-align: middle;\n",
       "    }\n",
       "\n",
       "    .dataframe tbody tr th {\n",
       "        vertical-align: top;\n",
       "    }\n",
       "\n",
       "    .dataframe thead th {\n",
       "        text-align: right;\n",
       "    }\n",
       "</style>\n",
       "<table border=\"1\" class=\"dataframe\">\n",
       "  <thead>\n",
       "    <tr style=\"text-align: right;\">\n",
       "      <th></th>\n",
       "      <th>rating_counts</th>\n",
       "      <th>user</th>\n",
       "      <th>rating</th>\n",
       "    </tr>\n",
       "  </thead>\n",
       "  <tbody>\n",
       "    <tr>\n",
       "      <th>count</th>\n",
       "      <td>194683.000000</td>\n",
       "      <td>194683.000000</td>\n",
       "      <td>194683.000000</td>\n",
       "    </tr>\n",
       "    <tr>\n",
       "      <th>mean</th>\n",
       "      <td>10.978925</td>\n",
       "      <td>133390.439443</td>\n",
       "      <td>7.784429</td>\n",
       "    </tr>\n",
       "    <tr>\n",
       "      <th>std</th>\n",
       "      <td>21.325202</td>\n",
       "      <td>80327.269239</td>\n",
       "      <td>1.811066</td>\n",
       "    </tr>\n",
       "    <tr>\n",
       "      <th>min</th>\n",
       "      <td>1.000000</td>\n",
       "      <td>183.000000</td>\n",
       "      <td>1.000000</td>\n",
       "    </tr>\n",
       "    <tr>\n",
       "      <th>25%</th>\n",
       "      <td>1.000000</td>\n",
       "      <td>66942.000000</td>\n",
       "      <td>7.000000</td>\n",
       "    </tr>\n",
       "    <tr>\n",
       "      <th>50%</th>\n",
       "      <td>3.000000</td>\n",
       "      <td>128835.000000</td>\n",
       "      <td>8.000000</td>\n",
       "    </tr>\n",
       "    <tr>\n",
       "      <th>75%</th>\n",
       "      <td>10.000000</td>\n",
       "      <td>203603.000000</td>\n",
       "      <td>9.000000</td>\n",
       "    </tr>\n",
       "    <tr>\n",
       "      <th>max</th>\n",
       "      <td>208.000000</td>\n",
       "      <td>278633.000000</td>\n",
       "      <td>10.000000</td>\n",
       "    </tr>\n",
       "  </tbody>\n",
       "</table>\n",
       "</div>"
      ],
      "text/plain": [
       "       rating_counts           user         rating\n",
       "count  194683.000000  194683.000000  194683.000000\n",
       "mean       10.978925  133390.439443       7.784429\n",
       "std        21.325202   80327.269239       1.811066\n",
       "min         1.000000     183.000000       1.000000\n",
       "25%         1.000000   66942.000000       7.000000\n",
       "50%         3.000000  128835.000000       8.000000\n",
       "75%        10.000000  203603.000000       9.000000\n",
       "max       208.000000  278633.000000      10.000000"
      ]
     },
     "execution_count": 565,
     "metadata": {},
     "output_type": "execute_result"
    }
   ],
   "source": [
    "final_dataset.describe()"
   ]
  },
  {
   "cell_type": "code",
   "execution_count": 566,
   "metadata": {},
   "outputs": [
    {
     "data": {
      "text/plain": [
       "(93568, 2412)"
      ]
     },
     "execution_count": 566,
     "metadata": {},
     "output_type": "execute_result"
    }
   ],
   "source": [
    "pivot = final_dataset.pivot_table(index=\"title\",columns=\"user\",values=\"rating\")\n",
    "pivot.shape"
   ]
  },
  {
   "cell_type": "code",
   "execution_count": null,
   "metadata": {},
   "outputs": [],
   "source": []
  },
  {
   "cell_type": "code",
   "execution_count": 656,
   "metadata": {},
   "outputs": [],
   "source": [
    "like_book = ' Dark Justice'\n",
    "#pivot.loc[like_book].values\n",
    "#pivot.index[0]\n",
    "def get_index_by_title(like_book, df):\n",
    "    book_titles = df.index.tolist()\n",
    "    row_index = book_titles.index(like_book)\n",
    "    return row_index\n"
   ]
  },
  {
   "cell_type": "code",
   "execution_count": 661,
   "metadata": {},
   "outputs": [
    {
     "data": {
      "text/plain": [
       "user\n",
       "183       0.0\n",
       "242       0.0\n",
       "254       0.0\n",
       "507       0.0\n",
       "638       0.0\n",
       "         ... \n",
       "278188    0.0\n",
       "278356    0.0\n",
       "278418    0.0\n",
       "278582    0.0\n",
       "278633    0.0\n",
       "Name: Where the Heart Is (Oprah's Book Club (Paperback)), Length: 2412, dtype: float32"
      ]
     },
     "execution_count": 661,
     "metadata": {},
     "output_type": "execute_result"
    }
   ],
   "source": [
    "like_book = \"Where the Heart Is (Oprah's Book Club (Paperback))\"\n",
    "pivot.iloc[get_index_by_title(like_book, pivot)]"
   ]
  },
  {
   "cell_type": "code",
   "execution_count": 659,
   "metadata": {},
   "outputs": [
    {
     "data": {
      "text/plain": [
       "user\n",
       "183       0.0\n",
       "242       0.0\n",
       "254       0.0\n",
       "507       0.0\n",
       "638       0.0\n",
       "         ... \n",
       "278188    0.0\n",
       "278356    0.0\n",
       "278418    0.0\n",
       "278582    0.0\n",
       "278633    0.0\n",
       "Name: The Queen of the Damned (Vampire Chronicles (Paperback)), Length: 2412, dtype: float32"
      ]
     },
     "execution_count": 659,
     "metadata": {},
     "output_type": "execute_result"
    }
   ],
   "source": []
  },
  {
   "cell_type": "code",
   "execution_count": 567,
   "metadata": {},
   "outputs": [
    {
     "data": {
      "text/plain": [
       "(93568, 2412)"
      ]
     },
     "execution_count": 567,
     "metadata": {},
     "output_type": "execute_result"
    }
   ],
   "source": [
    "pivot.fillna(0,inplace=True)\n",
    "pivot.shape"
   ]
  },
  {
   "cell_type": "code",
   "execution_count": 568,
   "metadata": {},
   "outputs": [],
   "source": [
    "from scipy.sparse import csr_matrix\n",
    "book_sparse = csr_matrix(pivot)"
   ]
  },
  {
   "cell_type": "code",
   "execution_count": 569,
   "metadata": {},
   "outputs": [
    {
     "data": {
      "text/plain": [
       "NearestNeighbors(metric='cosine')"
      ]
     },
     "execution_count": 569,
     "metadata": {},
     "output_type": "execute_result"
    }
   ],
   "source": [
    "from sklearn.neighbors import NearestNeighbors\n",
    "model = NearestNeighbors(metric = 'cosine', algorithm='auto',n_neighbors=5)\n",
    "model.fit(book_sparse)"
   ]
  },
  {
   "cell_type": "code",
   "execution_count": 582,
   "metadata": {},
   "outputs": [],
   "source": [
    "distances, suggestions = model.kneighbors(pivot.iloc[1, :].values.reshape(1, -1))"
   ]
  },
  {
   "cell_type": "code",
   "execution_count": 583,
   "metadata": {},
   "outputs": [
    {
     "name": "stdout",
     "output_type": "stream",
     "text": [
      "Index(['Stranger Online (Todaysgirlsonly, 1)',\n",
      "       'Scholastic Book of World Records 2004 (Scholastic Book of World Records)',\n",
      "       'New York Ninjas (American Chillers)',\n",
      "       'Professor Terwilliger and Tim Neptune I',\n",
      "       'The Feelings Book: The Care &amp; Keeping of Your Emotions (American Girl (Paperback Unnumbered))'],\n",
      "      dtype='object', name='title')\n"
     ]
    }
   ],
   "source": [
    "for i in range(len(suggestions)):\n",
    "  print(pivot.index[suggestions[i]])"
   ]
  },
  {
   "cell_type": "code",
   "execution_count": null,
   "metadata": {},
   "outputs": [],
   "source": []
  },
  {
   "cell_type": "code",
   "execution_count": null,
   "metadata": {},
   "outputs": [],
   "source": []
  }
 ],
 "metadata": {
  "interpreter": {
   "hash": "ccdd01b0c33a4b4dba0f43c84e1780e93d14d166c9965d8e132ea0768e351910"
  },
  "kernelspec": {
   "display_name": "Python 3.8.8 64-bit ('env': venv)",
   "language": "python",
   "name": "python3"
  },
  "language_info": {
   "codemirror_mode": {
    "name": "ipython",
    "version": 3
   },
   "file_extension": ".py",
   "mimetype": "text/x-python",
   "name": "python",
   "nbconvert_exporter": "python",
   "pygments_lexer": "ipython3",
   "version": "3.8.8"
  },
  "orig_nbformat": 4
 },
 "nbformat": 4,
 "nbformat_minor": 2
}
