{
 "cells": [
  {
   "cell_type": "code",
   "execution_count": 117,
   "metadata": {},
   "outputs": [],
   "source": [
    "import pandas as pd\n",
    "import numpy as np\n",
    "import matplotlib.pyplot as plt"
   ]
  },
  {
   "cell_type": "code",
   "execution_count": 118,
   "metadata": {},
   "outputs": [],
   "source": [
    "# Load and preprocess data\n",
    "books_path = \"BX-Books.csv\"\n",
    "ratings_path = \"BX-Book-Ratings.csv\"\n",
    "\n",
    "df_books = pd.read_csv(\n",
    "    books_path,\n",
    "    encoding = \"ISO-8859-1\",\n",
    "    sep=\";\",\n",
    "    header=0,\n",
    "    names=['isbn', 'title', 'author'],\n",
    "    usecols=['isbn', 'title', 'author'],\n",
    "    dtype={'isbn': 'str', 'title': 'str', 'author': 'str'})\n",
    "\n",
    "df_ratings = pd.read_csv(\n",
    "    ratings_path,\n",
    "    encoding = \"ISO-8859-1\",\n",
    "    sep=\";\",\n",
    "    header=0,\n",
    "    names=['user', 'isbn', 'rating'],\n",
    "    usecols=['user', 'isbn', 'rating'],\n",
    "    dtype={'user': 'int32', 'isbn': 'str', 'rating': 'float32'})"
   ]
  },
  {
   "cell_type": "code",
   "execution_count": 119,
   "metadata": {},
   "outputs": [
    {
     "name": "stdout",
     "output_type": "stream",
     "text": [
      "have:271379 rows and 3 columns\n",
      "have:1149780 rows and 3 columns\n"
     ]
    }
   ],
   "source": [
    "df_list = [df_books,df_ratings]\n",
    "def dataset_shapes(df_list):\n",
    "    for df in df_list:\n",
    "        print(f\"have:{df.shape[0]} rows and {df.shape[1]} columns\")\n",
    "dataset_shapes(df_list)"
   ]
  },
  {
   "cell_type": "markdown",
   "metadata": {},
   "source": [
    "### Books dataset exploration\n"
   ]
  },
  {
   "cell_type": "code",
   "execution_count": 120,
   "metadata": {},
   "outputs": [
    {
     "data": {
      "text/html": [
       "<div>\n",
       "<style scoped>\n",
       "    .dataframe tbody tr th:only-of-type {\n",
       "        vertical-align: middle;\n",
       "    }\n",
       "\n",
       "    .dataframe tbody tr th {\n",
       "        vertical-align: top;\n",
       "    }\n",
       "\n",
       "    .dataframe thead th {\n",
       "        text-align: right;\n",
       "    }\n",
       "</style>\n",
       "<table border=\"1\" class=\"dataframe\">\n",
       "  <thead>\n",
       "    <tr style=\"text-align: right;\">\n",
       "      <th></th>\n",
       "      <th>isbn</th>\n",
       "      <th>title</th>\n",
       "      <th>author</th>\n",
       "    </tr>\n",
       "  </thead>\n",
       "  <tbody>\n",
       "    <tr>\n",
       "      <th>0</th>\n",
       "      <td>0195153448</td>\n",
       "      <td>Classical Mythology</td>\n",
       "      <td>Mark P. O. Morford</td>\n",
       "    </tr>\n",
       "    <tr>\n",
       "      <th>1</th>\n",
       "      <td>0002005018</td>\n",
       "      <td>Clara Callan</td>\n",
       "      <td>Richard Bruce Wright</td>\n",
       "    </tr>\n",
       "    <tr>\n",
       "      <th>2</th>\n",
       "      <td>0060973129</td>\n",
       "      <td>Decision in Normandy</td>\n",
       "      <td>Carlo D'Este</td>\n",
       "    </tr>\n",
       "    <tr>\n",
       "      <th>3</th>\n",
       "      <td>0374157065</td>\n",
       "      <td>Flu: The Story of the Great Influenza Pandemic...</td>\n",
       "      <td>Gina Bari Kolata</td>\n",
       "    </tr>\n",
       "    <tr>\n",
       "      <th>4</th>\n",
       "      <td>0393045218</td>\n",
       "      <td>The Mummies of Urumchi</td>\n",
       "      <td>E. J. W. Barber</td>\n",
       "    </tr>\n",
       "  </tbody>\n",
       "</table>\n",
       "</div>"
      ],
      "text/plain": [
       "         isbn                                              title  \\\n",
       "0  0195153448                                Classical Mythology   \n",
       "1  0002005018                                       Clara Callan   \n",
       "2  0060973129                               Decision in Normandy   \n",
       "3  0374157065  Flu: The Story of the Great Influenza Pandemic...   \n",
       "4  0393045218                             The Mummies of Urumchi   \n",
       "\n",
       "                 author  \n",
       "0    Mark P. O. Morford  \n",
       "1  Richard Bruce Wright  \n",
       "2          Carlo D'Este  \n",
       "3      Gina Bari Kolata  \n",
       "4       E. J. W. Barber  "
      ]
     },
     "execution_count": 120,
     "metadata": {},
     "output_type": "execute_result"
    }
   ],
   "source": [
    "df_books.head()"
   ]
  },
  {
   "cell_type": "code",
   "execution_count": 121,
   "metadata": {},
   "outputs": [
    {
     "name": "stdout",
     "output_type": "stream",
     "text": [
      "<class 'pandas.core.frame.DataFrame'>\n",
      "RangeIndex: 271379 entries, 0 to 271378\n",
      "Data columns (total 3 columns):\n",
      " #   Column  Non-Null Count   Dtype \n",
      "---  ------  --------------   ----- \n",
      " 0   isbn    271379 non-null  object\n",
      " 1   title   271379 non-null  object\n",
      " 2   author  271378 non-null  object\n",
      "dtypes: object(3)\n",
      "memory usage: 6.2+ MB\n"
     ]
    }
   ],
   "source": [
    "df_books.info()"
   ]
  },
  {
   "cell_type": "code",
   "execution_count": 122,
   "metadata": {},
   "outputs": [
    {
     "data": {
      "text/plain": [
       "Agatha Christie          632\n",
       "William Shakespeare      567\n",
       "Stephen King             524\n",
       "Ann M. Martin            423\n",
       "Carolyn Keene            373\n",
       "Francine Pascal          372\n",
       "Isaac Asimov             330\n",
       "Nora Roberts             315\n",
       "Barbara Cartland         307\n",
       "Charles Dickens          302\n",
       "Not Applicable (Na )     286\n",
       "R. L. Stine              282\n",
       "Mark Twain               231\n",
       "Jane Austen              223\n",
       "Terry Pratchett          220\n",
       "Mary Higgins Clark       218\n",
       "Piers Anthony            217\n",
       "Marion Zimmer Bradley    216\n",
       "Janet Dailey             214\n",
       "Franklin W. Dixon        204\n",
       "Name: author, dtype: int64"
      ]
     },
     "execution_count": 122,
     "metadata": {},
     "output_type": "execute_result"
    }
   ],
   "source": [
    "# get top 20 authors\n",
    "\n",
    "df_books.author.value_counts().nlargest(20)\n",
    "\n"
   ]
  },
  {
   "cell_type": "code",
   "execution_count": 123,
   "metadata": {},
   "outputs": [
    {
     "data": {
      "text/plain": [
       "(271379, 3)"
      ]
     },
     "execution_count": 123,
     "metadata": {},
     "output_type": "execute_result"
    }
   ],
   "source": [
    "df_books.shape"
   ]
  },
  {
   "cell_type": "code",
   "execution_count": 124,
   "metadata": {},
   "outputs": [
    {
     "data": {
      "text/plain": [
       "(271379, 3)"
      ]
     },
     "execution_count": 124,
     "metadata": {},
     "output_type": "execute_result"
    }
   ],
   "source": [
    "# search for duplicates in titles\n",
    "non_dup_df = df_books.drop_duplicates([\"title\",\"isbn\"], keep=\"first\")\n",
    "non_dup_df.shape"
   ]
  },
  {
   "cell_type": "markdown",
   "metadata": {},
   "source": [
    "### Rating Dataset exploration"
   ]
  },
  {
   "cell_type": "code",
   "execution_count": 125,
   "metadata": {},
   "outputs": [
    {
     "name": "stdout",
     "output_type": "stream",
     "text": [
      "<class 'pandas.core.frame.DataFrame'>\n",
      "RangeIndex: 1149780 entries, 0 to 1149779\n",
      "Data columns (total 3 columns):\n",
      " #   Column  Non-Null Count    Dtype  \n",
      "---  ------  --------------    -----  \n",
      " 0   user    1149780 non-null  int32  \n",
      " 1   isbn    1149780 non-null  object \n",
      " 2   rating  1149780 non-null  float32\n",
      "dtypes: float32(1), int32(1), object(1)\n",
      "memory usage: 17.5+ MB\n"
     ]
    }
   ],
   "source": [
    "df_ratings.info()"
   ]
  },
  {
   "cell_type": "code",
   "execution_count": 126,
   "metadata": {},
   "outputs": [
    {
     "data": {
      "text/html": [
       "<div>\n",
       "<style scoped>\n",
       "    .dataframe tbody tr th:only-of-type {\n",
       "        vertical-align: middle;\n",
       "    }\n",
       "\n",
       "    .dataframe tbody tr th {\n",
       "        vertical-align: top;\n",
       "    }\n",
       "\n",
       "    .dataframe thead th {\n",
       "        text-align: right;\n",
       "    }\n",
       "</style>\n",
       "<table border=\"1\" class=\"dataframe\">\n",
       "  <thead>\n",
       "    <tr style=\"text-align: right;\">\n",
       "      <th></th>\n",
       "      <th>user</th>\n",
       "      <th>isbn</th>\n",
       "      <th>rating</th>\n",
       "    </tr>\n",
       "  </thead>\n",
       "  <tbody>\n",
       "    <tr>\n",
       "      <th>0</th>\n",
       "      <td>276725</td>\n",
       "      <td>034545104X</td>\n",
       "      <td>0.0</td>\n",
       "    </tr>\n",
       "    <tr>\n",
       "      <th>1</th>\n",
       "      <td>276726</td>\n",
       "      <td>0155061224</td>\n",
       "      <td>5.0</td>\n",
       "    </tr>\n",
       "    <tr>\n",
       "      <th>2</th>\n",
       "      <td>276727</td>\n",
       "      <td>0446520802</td>\n",
       "      <td>0.0</td>\n",
       "    </tr>\n",
       "    <tr>\n",
       "      <th>3</th>\n",
       "      <td>276729</td>\n",
       "      <td>052165615X</td>\n",
       "      <td>3.0</td>\n",
       "    </tr>\n",
       "    <tr>\n",
       "      <th>4</th>\n",
       "      <td>276729</td>\n",
       "      <td>0521795028</td>\n",
       "      <td>6.0</td>\n",
       "    </tr>\n",
       "    <tr>\n",
       "      <th>5</th>\n",
       "      <td>276733</td>\n",
       "      <td>2080674722</td>\n",
       "      <td>0.0</td>\n",
       "    </tr>\n",
       "    <tr>\n",
       "      <th>6</th>\n",
       "      <td>276736</td>\n",
       "      <td>3257224281</td>\n",
       "      <td>8.0</td>\n",
       "    </tr>\n",
       "    <tr>\n",
       "      <th>7</th>\n",
       "      <td>276737</td>\n",
       "      <td>0600570967</td>\n",
       "      <td>6.0</td>\n",
       "    </tr>\n",
       "    <tr>\n",
       "      <th>8</th>\n",
       "      <td>276744</td>\n",
       "      <td>038550120X</td>\n",
       "      <td>7.0</td>\n",
       "    </tr>\n",
       "    <tr>\n",
       "      <th>9</th>\n",
       "      <td>276745</td>\n",
       "      <td>342310538</td>\n",
       "      <td>10.0</td>\n",
       "    </tr>\n",
       "  </tbody>\n",
       "</table>\n",
       "</div>"
      ],
      "text/plain": [
       "     user        isbn  rating\n",
       "0  276725  034545104X     0.0\n",
       "1  276726  0155061224     5.0\n",
       "2  276727  0446520802     0.0\n",
       "3  276729  052165615X     3.0\n",
       "4  276729  0521795028     6.0\n",
       "5  276733  2080674722     0.0\n",
       "6  276736  3257224281     8.0\n",
       "7  276737  0600570967     6.0\n",
       "8  276744  038550120X     7.0\n",
       "9  276745   342310538    10.0"
      ]
     },
     "execution_count": 126,
     "metadata": {},
     "output_type": "execute_result"
    }
   ],
   "source": [
    "df_ratings.head(10)"
   ]
  },
  {
   "cell_type": "code",
   "execution_count": 127,
   "metadata": {},
   "outputs": [
    {
     "data": {
      "image/png": "[encoded data removed]",
      "text/plain": [
       "<Figure size 432x288 with 1 Axes>"
      ]
     },
     "metadata": {
      "needs_background": "light"
     },
     "output_type": "display_data"
    }
   ],
   "source": [
    "#plot distribution of ratings\n",
    "plt.hist(df_ratings[\"rating\"])\n",
    "plt.xlabel(\"Ratings\")\n",
    "plt.ylabel(\"Count of Ratings\")\n",
    "plt.title(\"Books Rating Distribution\")\n",
    "plt.show()"
   ]
  },
  {
   "cell_type": "code",
   "execution_count": 128,
   "metadata": {},
   "outputs": [
    {
     "data": {
      "text/plain": [
       "0.0     716109\n",
       "8.0     103736\n",
       "10.0     78610\n",
       "7.0      76457\n",
       "9.0      67541\n",
       "5.0      50974\n",
       "6.0      36924\n",
       "4.0       8904\n",
       "3.0       5996\n",
       "2.0       2759\n",
       "1.0       1770\n",
       "Name: rating, dtype: int64"
      ]
     },
     "execution_count": 128,
     "metadata": {},
     "output_type": "execute_result"
    }
   ],
   "source": [
    "ratings_dist = df_ratings[\"rating\"].value_counts()\n",
    "ratings_dist"
   ]
  },
  {
   "cell_type": "code",
   "execution_count": 129,
   "metadata": {},
   "outputs": [
    {
     "data": {
      "image/png": "[encoded data removed]",
      "text/plain": [
       "<Figure size 432x288 with 1 Axes>"
      ]
     },
     "metadata": {
      "needs_background": "light"
     },
     "output_type": "display_data"
    }
   ],
   "source": [
    "# get user records only with rating >0\n",
    "df_cleaned_ratings = df_ratings[df_ratings.rating != 0]\n",
    "plt.hist(df_cleaned_ratings[\"rating\"])\n",
    "plt.xlabel(\"Ratings\")\n",
    "plt.ylabel(\"Count of Ratings\")\n",
    "plt.title(\"Books Rating Distribution\")\n",
    "plt.show()"
   ]
  },
  {
   "cell_type": "code",
   "execution_count": 130,
   "metadata": {},
   "outputs": [
    {
     "data": {
      "text/plain": [
       "11676     8524\n",
       "98391     5802\n",
       "153662    1969\n",
       "189835    1906\n",
       "23902     1395\n",
       "          ... \n",
       "114079       1\n",
       "114081       1\n",
       "114096       1\n",
       "114115       1\n",
       "276723       1\n",
       "Name: user, Length: 77805, dtype: int64"
      ]
     },
     "execution_count": 130,
     "metadata": {},
     "output_type": "execute_result"
    }
   ],
   "source": [
    "# get the number of ratings of every user\n",
    "df_cleaned_ratings[\"user\"].value_counts()"
   ]
  },
  {
   "cell_type": "code",
   "execution_count": 131,
   "metadata": {},
   "outputs": [
    {
     "data": {
      "text/plain": [
       "(116945, 3)"
      ]
     },
     "execution_count": 131,
     "metadata": {},
     "output_type": "execute_result"
    }
   ],
   "source": [
    "#select users which gives more than x ratings\n",
    "rating_treshold = 100\n",
    "# mask\n",
    "valid_users = df_cleaned_ratings[\"user\"].value_counts() > rating_treshold\n",
    "#create index for DataFrame from valid users\n",
    "user_index = valid_users[valid_users].index\n",
    "user_index.shape\n",
    "# Construct dataset with valid users which gives more than 100 ratings\n",
    "df_cleaned_ratings = df_cleaned_ratings[df_cleaned_ratings[\"user\"].isin(user_index)] \n",
    "df_cleaned_ratings.shape"
   ]
  },
  {
   "cell_type": "markdown",
   "metadata": {},
   "source": [
    "### Merge Ratings and Books data"
   ]
  },
  {
   "cell_type": "code",
   "execution_count": 132,
   "metadata": {},
   "outputs": [
    {
     "name": "stdout",
     "output_type": "stream",
     "text": [
      "<class 'pandas.core.frame.DataFrame'>\n",
      "Int64Index: 106001 entries, 0 to 106000\n",
      "Data columns (total 5 columns):\n",
      " #   Column  Non-Null Count   Dtype  \n",
      "---  ------  --------------   -----  \n",
      " 0   user    106001 non-null  int32  \n",
      " 1   isbn    106001 non-null  object \n",
      " 2   rating  106001 non-null  float32\n",
      " 3   title   106001 non-null  object \n",
      " 4   author  106001 non-null  object \n",
      "dtypes: float32(1), int32(1), object(3)\n",
      "memory usage: 4.0+ MB\n"
     ]
    }
   ],
   "source": [
    "clean_dataset = df_cleaned_ratings.merge(df_books, on=\"isbn\")\n",
    "clean_dataset.info()"
   ]
  },
  {
   "cell_type": "code",
   "execution_count": 133,
   "metadata": {},
   "outputs": [
    {
     "data": {
      "text/html": [
       "<div>\n",
       "<style scoped>\n",
       "    .dataframe tbody tr th:only-of-type {\n",
       "        vertical-align: middle;\n",
       "    }\n",
       "\n",
       "    .dataframe tbody tr th {\n",
       "        vertical-align: top;\n",
       "    }\n",
       "\n",
       "    .dataframe thead th {\n",
       "        text-align: right;\n",
       "    }\n",
       "</style>\n",
       "<table border=\"1\" class=\"dataframe\">\n",
       "  <thead>\n",
       "    <tr style=\"text-align: right;\">\n",
       "      <th></th>\n",
       "      <th>user</th>\n",
       "      <th>rating</th>\n",
       "    </tr>\n",
       "  </thead>\n",
       "  <tbody>\n",
       "    <tr>\n",
       "      <th>count</th>\n",
       "      <td>106001.000000</td>\n",
       "      <td>106001.000000</td>\n",
       "    </tr>\n",
       "    <tr>\n",
       "      <th>mean</th>\n",
       "      <td>126238.268507</td>\n",
       "      <td>7.822105</td>\n",
       "    </tr>\n",
       "    <tr>\n",
       "      <th>std</th>\n",
       "      <td>80452.510282</td>\n",
       "      <td>1.817292</td>\n",
       "    </tr>\n",
       "    <tr>\n",
       "      <th>min</th>\n",
       "      <td>2033.000000</td>\n",
       "      <td>1.000000</td>\n",
       "    </tr>\n",
       "    <tr>\n",
       "      <th>25%</th>\n",
       "      <td>56399.000000</td>\n",
       "      <td>7.000000</td>\n",
       "    </tr>\n",
       "    <tr>\n",
       "      <th>50%</th>\n",
       "      <td>114368.000000</td>\n",
       "      <td>8.000000</td>\n",
       "    </tr>\n",
       "    <tr>\n",
       "      <th>75%</th>\n",
       "      <td>189835.000000</td>\n",
       "      <td>9.000000</td>\n",
       "    </tr>\n",
       "    <tr>\n",
       "      <th>max</th>\n",
       "      <td>278418.000000</td>\n",
       "      <td>10.000000</td>\n",
       "    </tr>\n",
       "  </tbody>\n",
       "</table>\n",
       "</div>"
      ],
      "text/plain": [
       "                user         rating\n",
       "count  106001.000000  106001.000000\n",
       "mean   126238.268507       7.822105\n",
       "std     80452.510282       1.817292\n",
       "min      2033.000000       1.000000\n",
       "25%     56399.000000       7.000000\n",
       "50%    114368.000000       8.000000\n",
       "75%    189835.000000       9.000000\n",
       "max    278418.000000      10.000000"
      ]
     },
     "execution_count": 133,
     "metadata": {},
     "output_type": "execute_result"
    }
   ],
   "source": [
    "clean_dataset.describe()"
   ]
  },
  {
   "cell_type": "code",
   "execution_count": 134,
   "metadata": {},
   "outputs": [
    {
     "data": {
      "text/html": [
       "<div>\n",
       "<style scoped>\n",
       "    .dataframe tbody tr th:only-of-type {\n",
       "        vertical-align: middle;\n",
       "    }\n",
       "\n",
       "    .dataframe tbody tr th {\n",
       "        vertical-align: top;\n",
       "    }\n",
       "\n",
       "    .dataframe thead th {\n",
       "        text-align: right;\n",
       "    }\n",
       "</style>\n",
       "<table border=\"1\" class=\"dataframe\">\n",
       "  <thead>\n",
       "    <tr style=\"text-align: right;\">\n",
       "      <th></th>\n",
       "      <th>user</th>\n",
       "      <th>isbn</th>\n",
       "      <th>rating</th>\n",
       "      <th>title</th>\n",
       "      <th>author</th>\n",
       "    </tr>\n",
       "  </thead>\n",
       "  <tbody>\n",
       "    <tr>\n",
       "      <th>0</th>\n",
       "      <td>277427</td>\n",
       "      <td>002542730X</td>\n",
       "      <td>10.0</td>\n",
       "      <td>Politically Correct Bedtime Stories: Modern Ta...</td>\n",
       "      <td>James Finn Garner</td>\n",
       "    </tr>\n",
       "    <tr>\n",
       "      <th>1</th>\n",
       "      <td>11676</td>\n",
       "      <td>002542730X</td>\n",
       "      <td>6.0</td>\n",
       "      <td>Politically Correct Bedtime Stories: Modern Ta...</td>\n",
       "      <td>James Finn Garner</td>\n",
       "    </tr>\n",
       "    <tr>\n",
       "      <th>2</th>\n",
       "      <td>12538</td>\n",
       "      <td>002542730X</td>\n",
       "      <td>10.0</td>\n",
       "      <td>Politically Correct Bedtime Stories: Modern Ta...</td>\n",
       "      <td>James Finn Garner</td>\n",
       "    </tr>\n",
       "    <tr>\n",
       "      <th>3</th>\n",
       "      <td>52584</td>\n",
       "      <td>002542730X</td>\n",
       "      <td>10.0</td>\n",
       "      <td>Politically Correct Bedtime Stories: Modern Ta...</td>\n",
       "      <td>James Finn Garner</td>\n",
       "    </tr>\n",
       "    <tr>\n",
       "      <th>4</th>\n",
       "      <td>110934</td>\n",
       "      <td>002542730X</td>\n",
       "      <td>6.0</td>\n",
       "      <td>Politically Correct Bedtime Stories: Modern Ta...</td>\n",
       "      <td>James Finn Garner</td>\n",
       "    </tr>\n",
       "    <tr>\n",
       "      <th>5</th>\n",
       "      <td>113270</td>\n",
       "      <td>002542730X</td>\n",
       "      <td>5.0</td>\n",
       "      <td>Politically Correct Bedtime Stories: Modern Ta...</td>\n",
       "      <td>James Finn Garner</td>\n",
       "    </tr>\n",
       "    <tr>\n",
       "      <th>6</th>\n",
       "      <td>128835</td>\n",
       "      <td>002542730X</td>\n",
       "      <td>8.0</td>\n",
       "      <td>Politically Correct Bedtime Stories: Modern Ta...</td>\n",
       "      <td>James Finn Garner</td>\n",
       "    </tr>\n",
       "    <tr>\n",
       "      <th>7</th>\n",
       "      <td>150979</td>\n",
       "      <td>002542730X</td>\n",
       "      <td>8.0</td>\n",
       "      <td>Politically Correct Bedtime Stories: Modern Ta...</td>\n",
       "      <td>James Finn Garner</td>\n",
       "    </tr>\n",
       "    <tr>\n",
       "      <th>8</th>\n",
       "      <td>164096</td>\n",
       "      <td>002542730X</td>\n",
       "      <td>8.0</td>\n",
       "      <td>Politically Correct Bedtime Stories: Modern Ta...</td>\n",
       "      <td>James Finn Garner</td>\n",
       "    </tr>\n",
       "    <tr>\n",
       "      <th>9</th>\n",
       "      <td>173291</td>\n",
       "      <td>002542730X</td>\n",
       "      <td>7.0</td>\n",
       "      <td>Politically Correct Bedtime Stories: Modern Ta...</td>\n",
       "      <td>James Finn Garner</td>\n",
       "    </tr>\n",
       "    <tr>\n",
       "      <th>10</th>\n",
       "      <td>183995</td>\n",
       "      <td>002542730X</td>\n",
       "      <td>10.0</td>\n",
       "      <td>Politically Correct Bedtime Stories: Modern Ta...</td>\n",
       "      <td>James Finn Garner</td>\n",
       "    </tr>\n",
       "    <tr>\n",
       "      <th>11</th>\n",
       "      <td>208671</td>\n",
       "      <td>002542730X</td>\n",
       "      <td>7.0</td>\n",
       "      <td>Politically Correct Bedtime Stories: Modern Ta...</td>\n",
       "      <td>James Finn Garner</td>\n",
       "    </tr>\n",
       "    <tr>\n",
       "      <th>12</th>\n",
       "      <td>209516</td>\n",
       "      <td>002542730X</td>\n",
       "      <td>9.0</td>\n",
       "      <td>Politically Correct Bedtime Stories: Modern Ta...</td>\n",
       "      <td>James Finn Garner</td>\n",
       "    </tr>\n",
       "    <tr>\n",
       "      <th>13</th>\n",
       "      <td>225763</td>\n",
       "      <td>002542730X</td>\n",
       "      <td>7.0</td>\n",
       "      <td>Politically Correct Bedtime Stories: Modern Ta...</td>\n",
       "      <td>James Finn Garner</td>\n",
       "    </tr>\n",
       "    <tr>\n",
       "      <th>14</th>\n",
       "      <td>229741</td>\n",
       "      <td>002542730X</td>\n",
       "      <td>7.0</td>\n",
       "      <td>Politically Correct Bedtime Stories: Modern Ta...</td>\n",
       "      <td>James Finn Garner</td>\n",
       "    </tr>\n",
       "    <tr>\n",
       "      <th>15</th>\n",
       "      <td>234597</td>\n",
       "      <td>002542730X</td>\n",
       "      <td>7.0</td>\n",
       "      <td>Politically Correct Bedtime Stories: Modern Ta...</td>\n",
       "      <td>James Finn Garner</td>\n",
       "    </tr>\n",
       "    <tr>\n",
       "      <th>16</th>\n",
       "      <td>269566</td>\n",
       "      <td>002542730X</td>\n",
       "      <td>7.0</td>\n",
       "      <td>Politically Correct Bedtime Stories: Modern Ta...</td>\n",
       "      <td>James Finn Garner</td>\n",
       "    </tr>\n",
       "    <tr>\n",
       "      <th>17</th>\n",
       "      <td>277427</td>\n",
       "      <td>003008685X</td>\n",
       "      <td>8.0</td>\n",
       "      <td>Pioneers</td>\n",
       "      <td>James Fenimore Cooper</td>\n",
       "    </tr>\n",
       "    <tr>\n",
       "      <th>18</th>\n",
       "      <td>277427</td>\n",
       "      <td>0060006641</td>\n",
       "      <td>10.0</td>\n",
       "      <td>On Writing Well, 25th Anniversary : The Classi...</td>\n",
       "      <td>William Zinsser</td>\n",
       "    </tr>\n",
       "    <tr>\n",
       "      <th>19</th>\n",
       "      <td>171118</td>\n",
       "      <td>0060006641</td>\n",
       "      <td>8.0</td>\n",
       "      <td>On Writing Well, 25th Anniversary : The Classi...</td>\n",
       "      <td>William Zinsser</td>\n",
       "    </tr>\n",
       "  </tbody>\n",
       "</table>\n",
       "</div>"
      ],
      "text/plain": [
       "      user        isbn  rating  \\\n",
       "0   277427  002542730X    10.0   \n",
       "1    11676  002542730X     6.0   \n",
       "2    12538  002542730X    10.0   \n",
       "3    52584  002542730X    10.0   \n",
       "4   110934  002542730X     6.0   \n",
       "5   113270  002542730X     5.0   \n",
       "6   128835  002542730X     8.0   \n",
       "7   150979  002542730X     8.0   \n",
       "8   164096  002542730X     8.0   \n",
       "9   173291  002542730X     7.0   \n",
       "10  183995  002542730X    10.0   \n",
       "11  208671  002542730X     7.0   \n",
       "12  209516  002542730X     9.0   \n",
       "13  225763  002542730X     7.0   \n",
       "14  229741  002542730X     7.0   \n",
       "15  234597  002542730X     7.0   \n",
       "16  269566  002542730X     7.0   \n",
       "17  277427  003008685X     8.0   \n",
       "18  277427  0060006641    10.0   \n",
       "19  171118  0060006641     8.0   \n",
       "\n",
       "                                                title                 author  \n",
       "0   Politically Correct Bedtime Stories: Modern Ta...      James Finn Garner  \n",
       "1   Politically Correct Bedtime Stories: Modern Ta...      James Finn Garner  \n",
       "2   Politically Correct Bedtime Stories: Modern Ta...      James Finn Garner  \n",
       "3   Politically Correct Bedtime Stories: Modern Ta...      James Finn Garner  \n",
       "4   Politically Correct Bedtime Stories: Modern Ta...      James Finn Garner  \n",
       "5   Politically Correct Bedtime Stories: Modern Ta...      James Finn Garner  \n",
       "6   Politically Correct Bedtime Stories: Modern Ta...      James Finn Garner  \n",
       "7   Politically Correct Bedtime Stories: Modern Ta...      James Finn Garner  \n",
       "8   Politically Correct Bedtime Stories: Modern Ta...      James Finn Garner  \n",
       "9   Politically Correct Bedtime Stories: Modern Ta...      James Finn Garner  \n",
       "10  Politically Correct Bedtime Stories: Modern Ta...      James Finn Garner  \n",
       "11  Politically Correct Bedtime Stories: Modern Ta...      James Finn Garner  \n",
       "12  Politically Correct Bedtime Stories: Modern Ta...      James Finn Garner  \n",
       "13  Politically Correct Bedtime Stories: Modern Ta...      James Finn Garner  \n",
       "14  Politically Correct Bedtime Stories: Modern Ta...      James Finn Garner  \n",
       "15  Politically Correct Bedtime Stories: Modern Ta...      James Finn Garner  \n",
       "16  Politically Correct Bedtime Stories: Modern Ta...      James Finn Garner  \n",
       "17                                           Pioneers  James Fenimore Cooper  \n",
       "18  On Writing Well, 25th Anniversary : The Classi...        William Zinsser  \n",
       "19  On Writing Well, 25th Anniversary : The Classi...        William Zinsser  "
      ]
     },
     "execution_count": 134,
     "metadata": {},
     "output_type": "execute_result"
    }
   ],
   "source": [
    "clean_dataset.head(20)"
   ]
  },
  {
   "cell_type": "code",
   "execution_count": 135,
   "metadata": {},
   "outputs": [
    {
     "name": "stdout",
     "output_type": "stream",
     "text": [
      "                                                   title  rating\n",
      "0       A Light in the Storm: The Civil War Diary of ...       1\n",
      "1                                           Dark Justice       1\n",
      "2       Earth Prayers From around the World: 365 Pray...       1\n",
      "3       Final Fantasy Anthology: Official Strategy Gu...       1\n",
      "4       Good Wives: Image and Reality in the Lives of...       2\n",
      "...                                                  ...     ...\n",
      "63145                   why I'm like this : True Stories       1\n",
      "63146                             Â¡Corre, perro, corre!       1\n",
      "63147             Â¿Eres tu mi mamÃ¡?/Are You My Mother?       1\n",
      "63148                  Ã?ngeles fugaces (Falling Angels)       1\n",
      "63149                             Ã?Â?ber das Fernsehen.       1\n",
      "\n",
      "[63150 rows x 2 columns]\n"
     ]
    }
   ],
   "source": [
    "#get rating counts for every title from all valid users and reset index\n",
    "count_rating = clean_dataset.groupby('title')['rating'].count().reset_index()\n",
    "print(count_rating)"
   ]
  },
  {
   "cell_type": "code",
   "execution_count": 136,
   "metadata": {},
   "outputs": [
    {
     "data": {
      "text/html": [
       "<div>\n",
       "<style scoped>\n",
       "    .dataframe tbody tr th:only-of-type {\n",
       "        vertical-align: middle;\n",
       "    }\n",
       "\n",
       "    .dataframe tbody tr th {\n",
       "        vertical-align: top;\n",
       "    }\n",
       "\n",
       "    .dataframe thead th {\n",
       "        text-align: right;\n",
       "    }\n",
       "</style>\n",
       "<table border=\"1\" class=\"dataframe\">\n",
       "  <thead>\n",
       "    <tr style=\"text-align: right;\">\n",
       "      <th></th>\n",
       "      <th>title</th>\n",
       "      <th>rating_counts</th>\n",
       "    </tr>\n",
       "  </thead>\n",
       "  <tbody>\n",
       "    <tr>\n",
       "      <th>0</th>\n",
       "      <td>A Light in the Storm: The Civil War Diary of ...</td>\n",
       "      <td>1</td>\n",
       "    </tr>\n",
       "    <tr>\n",
       "      <th>1</th>\n",
       "      <td>Dark Justice</td>\n",
       "      <td>1</td>\n",
       "    </tr>\n",
       "    <tr>\n",
       "      <th>2</th>\n",
       "      <td>Earth Prayers From around the World: 365 Pray...</td>\n",
       "      <td>1</td>\n",
       "    </tr>\n",
       "    <tr>\n",
       "      <th>3</th>\n",
       "      <td>Final Fantasy Anthology: Official Strategy Gu...</td>\n",
       "      <td>1</td>\n",
       "    </tr>\n",
       "    <tr>\n",
       "      <th>4</th>\n",
       "      <td>Good Wives: Image and Reality in the Lives of...</td>\n",
       "      <td>2</td>\n",
       "    </tr>\n",
       "    <tr>\n",
       "      <th>...</th>\n",
       "      <td>...</td>\n",
       "      <td>...</td>\n",
       "    </tr>\n",
       "    <tr>\n",
       "      <th>63145</th>\n",
       "      <td>why I'm like this : True Stories</td>\n",
       "      <td>1</td>\n",
       "    </tr>\n",
       "    <tr>\n",
       "      <th>63146</th>\n",
       "      <td>Â¡Corre, perro, corre!</td>\n",
       "      <td>1</td>\n",
       "    </tr>\n",
       "    <tr>\n",
       "      <th>63147</th>\n",
       "      <td>Â¿Eres tu mi mamÃ¡?/Are You My Mother?</td>\n",
       "      <td>1</td>\n",
       "    </tr>\n",
       "    <tr>\n",
       "      <th>63148</th>\n",
       "      <td>Ã?ngeles fugaces (Falling Angels)</td>\n",
       "      <td>1</td>\n",
       "    </tr>\n",
       "    <tr>\n",
       "      <th>63149</th>\n",
       "      <td>Ã?Â?ber das Fernsehen.</td>\n",
       "      <td>1</td>\n",
       "    </tr>\n",
       "  </tbody>\n",
       "</table>\n",
       "<p>63150 rows × 2 columns</p>\n",
       "</div>"
      ],
      "text/plain": [
       "                                                   title  rating_counts\n",
       "0       A Light in the Storm: The Civil War Diary of ...              1\n",
       "1                                           Dark Justice              1\n",
       "2       Earth Prayers From around the World: 365 Pray...              1\n",
       "3       Final Fantasy Anthology: Official Strategy Gu...              1\n",
       "4       Good Wives: Image and Reality in the Lives of...              2\n",
       "...                                                  ...            ...\n",
       "63145                   why I'm like this : True Stories              1\n",
       "63146                             Â¡Corre, perro, corre!              1\n",
       "63147             Â¿Eres tu mi mamÃ¡?/Are You My Mother?              1\n",
       "63148                  Ã?ngeles fugaces (Falling Angels)              1\n",
       "63149                             Ã?Â?ber das Fernsehen.              1\n",
       "\n",
       "[63150 rows x 2 columns]"
      ]
     },
     "execution_count": 136,
     "metadata": {},
     "output_type": "execute_result"
    }
   ],
   "source": [
    "count_rating.rename(columns={\"rating\":\"rating_counts\"}, inplace=True)\n",
    "count_rating"
   ]
  },
  {
   "cell_type": "code",
   "execution_count": 137,
   "metadata": {},
   "outputs": [
    {
     "data": {
      "text/plain": [
       "(106001, 6)"
      ]
     },
     "execution_count": 137,
     "metadata": {},
     "output_type": "execute_result"
    }
   ],
   "source": [
    "# get DataFrame with rating counts for every Book\n",
    "final_dataset = clean_dataset.merge(count_rating, on=\"title\")\n",
    "# get books with more than x rating counts\n",
    "rc_treshold = 100\n",
    "final_dataset[ final_dataset[\"rating_counts\"] >= rc_treshold]\n",
    "final_dataset.shape"
   ]
  },
  {
   "cell_type": "code",
   "execution_count": 138,
   "metadata": {},
   "outputs": [
    {
     "data": {
      "text/plain": [
       "(105220, 6)"
      ]
     },
     "execution_count": 138,
     "metadata": {},
     "output_type": "execute_result"
    }
   ],
   "source": [
    "# drop duplicate rating by same user\n",
    "final_dataset.drop_duplicates([\"user\",\"title\"], inplace=True)\n",
    "final_dataset.shape"
   ]
  },
  {
   "cell_type": "code",
   "execution_count": 164,
   "metadata": {},
   "outputs": [
    {
     "data": {
      "text/html": [
       "<div>\n",
       "<style scoped>\n",
       "    .dataframe tbody tr th:only-of-type {\n",
       "        vertical-align: middle;\n",
       "    }\n",
       "\n",
       "    .dataframe tbody tr th {\n",
       "        vertical-align: top;\n",
       "    }\n",
       "\n",
       "    .dataframe thead th {\n",
       "        text-align: right;\n",
       "    }\n",
       "</style>\n",
       "<table border=\"1\" class=\"dataframe\">\n",
       "  <thead>\n",
       "    <tr style=\"text-align: right;\">\n",
       "      <th></th>\n",
       "      <th>user</th>\n",
       "      <th>isbn</th>\n",
       "      <th>rating</th>\n",
       "      <th>title</th>\n",
       "      <th>author</th>\n",
       "      <th>rating_counts</th>\n",
       "    </tr>\n",
       "  </thead>\n",
       "  <tbody>\n",
       "    <tr>\n",
       "      <th>72</th>\n",
       "      <td>277427</td>\n",
       "      <td>0316776963</td>\n",
       "      <td>8.0</td>\n",
       "      <td>Me Talk Pretty One Day</td>\n",
       "      <td>David Sedaris</td>\n",
       "      <td>35</td>\n",
       "    </tr>\n",
       "    <tr>\n",
       "      <th>73</th>\n",
       "      <td>6575</td>\n",
       "      <td>0316776963</td>\n",
       "      <td>8.0</td>\n",
       "      <td>Me Talk Pretty One Day</td>\n",
       "      <td>David Sedaris</td>\n",
       "      <td>35</td>\n",
       "    </tr>\n",
       "    <tr>\n",
       "      <th>74</th>\n",
       "      <td>11676</td>\n",
       "      <td>0316776963</td>\n",
       "      <td>8.0</td>\n",
       "      <td>Me Talk Pretty One Day</td>\n",
       "      <td>David Sedaris</td>\n",
       "      <td>35</td>\n",
       "    </tr>\n",
       "    <tr>\n",
       "      <th>75</th>\n",
       "      <td>43910</td>\n",
       "      <td>0316776963</td>\n",
       "      <td>7.0</td>\n",
       "      <td>Me Talk Pretty One Day</td>\n",
       "      <td>David Sedaris</td>\n",
       "      <td>35</td>\n",
       "    </tr>\n",
       "    <tr>\n",
       "      <th>76</th>\n",
       "      <td>56447</td>\n",
       "      <td>0316776963</td>\n",
       "      <td>7.0</td>\n",
       "      <td>Me Talk Pretty One Day</td>\n",
       "      <td>David Sedaris</td>\n",
       "      <td>35</td>\n",
       "    </tr>\n",
       "    <tr>\n",
       "      <th>77</th>\n",
       "      <td>56959</td>\n",
       "      <td>0316776963</td>\n",
       "      <td>10.0</td>\n",
       "      <td>Me Talk Pretty One Day</td>\n",
       "      <td>David Sedaris</td>\n",
       "      <td>35</td>\n",
       "    </tr>\n",
       "    <tr>\n",
       "      <th>78</th>\n",
       "      <td>78834</td>\n",
       "      <td>0316776963</td>\n",
       "      <td>10.0</td>\n",
       "      <td>Me Talk Pretty One Day</td>\n",
       "      <td>David Sedaris</td>\n",
       "      <td>35</td>\n",
       "    </tr>\n",
       "    <tr>\n",
       "      <th>79</th>\n",
       "      <td>89602</td>\n",
       "      <td>0316776963</td>\n",
       "      <td>8.0</td>\n",
       "      <td>Me Talk Pretty One Day</td>\n",
       "      <td>David Sedaris</td>\n",
       "      <td>35</td>\n",
       "    </tr>\n",
       "    <tr>\n",
       "      <th>80</th>\n",
       "      <td>94347</td>\n",
       "      <td>0316776963</td>\n",
       "      <td>6.0</td>\n",
       "      <td>Me Talk Pretty One Day</td>\n",
       "      <td>David Sedaris</td>\n",
       "      <td>35</td>\n",
       "    </tr>\n",
       "    <tr>\n",
       "      <th>81</th>\n",
       "      <td>95932</td>\n",
       "      <td>0316776963</td>\n",
       "      <td>8.0</td>\n",
       "      <td>Me Talk Pretty One Day</td>\n",
       "      <td>David Sedaris</td>\n",
       "      <td>35</td>\n",
       "    </tr>\n",
       "    <tr>\n",
       "      <th>82</th>\n",
       "      <td>98758</td>\n",
       "      <td>0316776963</td>\n",
       "      <td>8.0</td>\n",
       "      <td>Me Talk Pretty One Day</td>\n",
       "      <td>David Sedaris</td>\n",
       "      <td>35</td>\n",
       "    </tr>\n",
       "    <tr>\n",
       "      <th>83</th>\n",
       "      <td>123981</td>\n",
       "      <td>0316776963</td>\n",
       "      <td>10.0</td>\n",
       "      <td>Me Talk Pretty One Day</td>\n",
       "      <td>David Sedaris</td>\n",
       "      <td>35</td>\n",
       "    </tr>\n",
       "    <tr>\n",
       "      <th>84</th>\n",
       "      <td>146348</td>\n",
       "      <td>0316776963</td>\n",
       "      <td>10.0</td>\n",
       "      <td>Me Talk Pretty One Day</td>\n",
       "      <td>David Sedaris</td>\n",
       "      <td>35</td>\n",
       "    </tr>\n",
       "    <tr>\n",
       "      <th>85</th>\n",
       "      <td>147451</td>\n",
       "      <td>0316776963</td>\n",
       "      <td>7.0</td>\n",
       "      <td>Me Talk Pretty One Day</td>\n",
       "      <td>David Sedaris</td>\n",
       "      <td>35</td>\n",
       "    </tr>\n",
       "    <tr>\n",
       "      <th>86</th>\n",
       "      <td>220688</td>\n",
       "      <td>0316776963</td>\n",
       "      <td>10.0</td>\n",
       "      <td>Me Talk Pretty One Day</td>\n",
       "      <td>David Sedaris</td>\n",
       "      <td>35</td>\n",
       "    </tr>\n",
       "    <tr>\n",
       "      <th>87</th>\n",
       "      <td>229741</td>\n",
       "      <td>0316776963</td>\n",
       "      <td>9.0</td>\n",
       "      <td>Me Talk Pretty One Day</td>\n",
       "      <td>David Sedaris</td>\n",
       "      <td>35</td>\n",
       "    </tr>\n",
       "    <tr>\n",
       "      <th>88</th>\n",
       "      <td>235282</td>\n",
       "      <td>0316776963</td>\n",
       "      <td>8.0</td>\n",
       "      <td>Me Talk Pretty One Day</td>\n",
       "      <td>David Sedaris</td>\n",
       "      <td>35</td>\n",
       "    </tr>\n",
       "    <tr>\n",
       "      <th>89</th>\n",
       "      <td>239584</td>\n",
       "      <td>0316776963</td>\n",
       "      <td>9.0</td>\n",
       "      <td>Me Talk Pretty One Day</td>\n",
       "      <td>David Sedaris</td>\n",
       "      <td>35</td>\n",
       "    </tr>\n",
       "    <tr>\n",
       "      <th>90</th>\n",
       "      <td>242083</td>\n",
       "      <td>0316776963</td>\n",
       "      <td>7.0</td>\n",
       "      <td>Me Talk Pretty One Day</td>\n",
       "      <td>David Sedaris</td>\n",
       "      <td>35</td>\n",
       "    </tr>\n",
       "    <tr>\n",
       "      <th>91</th>\n",
       "      <td>261829</td>\n",
       "      <td>0316776963</td>\n",
       "      <td>1.0</td>\n",
       "      <td>Me Talk Pretty One Day</td>\n",
       "      <td>David Sedaris</td>\n",
       "      <td>35</td>\n",
       "    </tr>\n",
       "    <tr>\n",
       "      <th>92</th>\n",
       "      <td>264321</td>\n",
       "      <td>0316776963</td>\n",
       "      <td>6.0</td>\n",
       "      <td>Me Talk Pretty One Day</td>\n",
       "      <td>David Sedaris</td>\n",
       "      <td>35</td>\n",
       "    </tr>\n",
       "    <tr>\n",
       "      <th>93</th>\n",
       "      <td>270713</td>\n",
       "      <td>0316776963</td>\n",
       "      <td>7.0</td>\n",
       "      <td>Me Talk Pretty One Day</td>\n",
       "      <td>David Sedaris</td>\n",
       "      <td>35</td>\n",
       "    </tr>\n",
       "    <tr>\n",
       "      <th>95</th>\n",
       "      <td>8245</td>\n",
       "      <td>0316777722</td>\n",
       "      <td>8.0</td>\n",
       "      <td>Me Talk Pretty One Day</td>\n",
       "      <td>David Sedaris</td>\n",
       "      <td>35</td>\n",
       "    </tr>\n",
       "    <tr>\n",
       "      <th>97</th>\n",
       "      <td>15408</td>\n",
       "      <td>0316777722</td>\n",
       "      <td>7.0</td>\n",
       "      <td>Me Talk Pretty One Day</td>\n",
       "      <td>David Sedaris</td>\n",
       "      <td>35</td>\n",
       "    </tr>\n",
       "    <tr>\n",
       "      <th>98</th>\n",
       "      <td>25409</td>\n",
       "      <td>0316777722</td>\n",
       "      <td>10.0</td>\n",
       "      <td>Me Talk Pretty One Day</td>\n",
       "      <td>David Sedaris</td>\n",
       "      <td>35</td>\n",
       "    </tr>\n",
       "    <tr>\n",
       "      <th>99</th>\n",
       "      <td>63956</td>\n",
       "      <td>0316777722</td>\n",
       "      <td>9.0</td>\n",
       "      <td>Me Talk Pretty One Day</td>\n",
       "      <td>David Sedaris</td>\n",
       "      <td>35</td>\n",
       "    </tr>\n",
       "    <tr>\n",
       "      <th>100</th>\n",
       "      <td>100906</td>\n",
       "      <td>0316777722</td>\n",
       "      <td>10.0</td>\n",
       "      <td>Me Talk Pretty One Day</td>\n",
       "      <td>David Sedaris</td>\n",
       "      <td>35</td>\n",
       "    </tr>\n",
       "    <tr>\n",
       "      <th>101</th>\n",
       "      <td>110934</td>\n",
       "      <td>0316777722</td>\n",
       "      <td>8.0</td>\n",
       "      <td>Me Talk Pretty One Day</td>\n",
       "      <td>David Sedaris</td>\n",
       "      <td>35</td>\n",
       "    </tr>\n",
       "    <tr>\n",
       "      <th>102</th>\n",
       "      <td>129716</td>\n",
       "      <td>0316777722</td>\n",
       "      <td>10.0</td>\n",
       "      <td>Me Talk Pretty One Day</td>\n",
       "      <td>David Sedaris</td>\n",
       "      <td>35</td>\n",
       "    </tr>\n",
       "    <tr>\n",
       "      <th>103</th>\n",
       "      <td>138844</td>\n",
       "      <td>0316777722</td>\n",
       "      <td>9.0</td>\n",
       "      <td>Me Talk Pretty One Day</td>\n",
       "      <td>David Sedaris</td>\n",
       "      <td>35</td>\n",
       "    </tr>\n",
       "    <tr>\n",
       "      <th>104</th>\n",
       "      <td>189973</td>\n",
       "      <td>0316777722</td>\n",
       "      <td>4.0</td>\n",
       "      <td>Me Talk Pretty One Day</td>\n",
       "      <td>David Sedaris</td>\n",
       "      <td>35</td>\n",
       "    </tr>\n",
       "    <tr>\n",
       "      <th>105</th>\n",
       "      <td>251844</td>\n",
       "      <td>0316777722</td>\n",
       "      <td>5.0</td>\n",
       "      <td>Me Talk Pretty One Day</td>\n",
       "      <td>David Sedaris</td>\n",
       "      <td>35</td>\n",
       "    </tr>\n",
       "    <tr>\n",
       "      <th>106</th>\n",
       "      <td>275970</td>\n",
       "      <td>1586210661</td>\n",
       "      <td>9.0</td>\n",
       "      <td>Me Talk Pretty One Day</td>\n",
       "      <td>David Sedaris</td>\n",
       "      <td>35</td>\n",
       "    </tr>\n",
       "    <tr>\n",
       "      <th>153</th>\n",
       "      <td>277427</td>\n",
       "      <td>0385424736</td>\n",
       "      <td>9.0</td>\n",
       "      <td>The Rainmaker</td>\n",
       "      <td>John Grisham</td>\n",
       "      <td>32</td>\n",
       "    </tr>\n",
       "    <tr>\n",
       "      <th>154</th>\n",
       "      <td>11676</td>\n",
       "      <td>0385424736</td>\n",
       "      <td>8.0</td>\n",
       "      <td>The Rainmaker</td>\n",
       "      <td>John Grisham</td>\n",
       "      <td>32</td>\n",
       "    </tr>\n",
       "    <tr>\n",
       "      <th>155</th>\n",
       "      <td>40889</td>\n",
       "      <td>0385424736</td>\n",
       "      <td>9.0</td>\n",
       "      <td>The Rainmaker</td>\n",
       "      <td>John Grisham</td>\n",
       "      <td>32</td>\n",
       "    </tr>\n",
       "    <tr>\n",
       "      <th>156</th>\n",
       "      <td>114368</td>\n",
       "      <td>0385424736</td>\n",
       "      <td>9.0</td>\n",
       "      <td>The Rainmaker</td>\n",
       "      <td>John Grisham</td>\n",
       "      <td>32</td>\n",
       "    </tr>\n",
       "    <tr>\n",
       "      <th>157</th>\n",
       "      <td>114865</td>\n",
       "      <td>0385424736</td>\n",
       "      <td>9.0</td>\n",
       "      <td>The Rainmaker</td>\n",
       "      <td>John Grisham</td>\n",
       "      <td>32</td>\n",
       "    </tr>\n",
       "  </tbody>\n",
       "</table>\n",
       "</div>"
      ],
      "text/plain": [
       "       user        isbn  rating                   title         author  \\\n",
       "72   277427  0316776963     8.0  Me Talk Pretty One Day  David Sedaris   \n",
       "73     6575  0316776963     8.0  Me Talk Pretty One Day  David Sedaris   \n",
       "74    11676  0316776963     8.0  Me Talk Pretty One Day  David Sedaris   \n",
       "75    43910  0316776963     7.0  Me Talk Pretty One Day  David Sedaris   \n",
       "76    56447  0316776963     7.0  Me Talk Pretty One Day  David Sedaris   \n",
       "77    56959  0316776963    10.0  Me Talk Pretty One Day  David Sedaris   \n",
       "78    78834  0316776963    10.0  Me Talk Pretty One Day  David Sedaris   \n",
       "79    89602  0316776963     8.0  Me Talk Pretty One Day  David Sedaris   \n",
       "80    94347  0316776963     6.0  Me Talk Pretty One Day  David Sedaris   \n",
       "81    95932  0316776963     8.0  Me Talk Pretty One Day  David Sedaris   \n",
       "82    98758  0316776963     8.0  Me Talk Pretty One Day  David Sedaris   \n",
       "83   123981  0316776963    10.0  Me Talk Pretty One Day  David Sedaris   \n",
       "84   146348  0316776963    10.0  Me Talk Pretty One Day  David Sedaris   \n",
       "85   147451  0316776963     7.0  Me Talk Pretty One Day  David Sedaris   \n",
       "86   220688  0316776963    10.0  Me Talk Pretty One Day  David Sedaris   \n",
       "87   229741  0316776963     9.0  Me Talk Pretty One Day  David Sedaris   \n",
       "88   235282  0316776963     8.0  Me Talk Pretty One Day  David Sedaris   \n",
       "89   239584  0316776963     9.0  Me Talk Pretty One Day  David Sedaris   \n",
       "90   242083  0316776963     7.0  Me Talk Pretty One Day  David Sedaris   \n",
       "91   261829  0316776963     1.0  Me Talk Pretty One Day  David Sedaris   \n",
       "92   264321  0316776963     6.0  Me Talk Pretty One Day  David Sedaris   \n",
       "93   270713  0316776963     7.0  Me Talk Pretty One Day  David Sedaris   \n",
       "95     8245  0316777722     8.0  Me Talk Pretty One Day  David Sedaris   \n",
       "97    15408  0316777722     7.0  Me Talk Pretty One Day  David Sedaris   \n",
       "98    25409  0316777722    10.0  Me Talk Pretty One Day  David Sedaris   \n",
       "99    63956  0316777722     9.0  Me Talk Pretty One Day  David Sedaris   \n",
       "100  100906  0316777722    10.0  Me Talk Pretty One Day  David Sedaris   \n",
       "101  110934  0316777722     8.0  Me Talk Pretty One Day  David Sedaris   \n",
       "102  129716  0316777722    10.0  Me Talk Pretty One Day  David Sedaris   \n",
       "103  138844  0316777722     9.0  Me Talk Pretty One Day  David Sedaris   \n",
       "104  189973  0316777722     4.0  Me Talk Pretty One Day  David Sedaris   \n",
       "105  251844  0316777722     5.0  Me Talk Pretty One Day  David Sedaris   \n",
       "106  275970  1586210661     9.0  Me Talk Pretty One Day  David Sedaris   \n",
       "153  277427  0385424736     9.0           The Rainmaker   John Grisham   \n",
       "154   11676  0385424736     8.0           The Rainmaker   John Grisham   \n",
       "155   40889  0385424736     9.0           The Rainmaker   John Grisham   \n",
       "156  114368  0385424736     9.0           The Rainmaker   John Grisham   \n",
       "157  114865  0385424736     9.0           The Rainmaker   John Grisham   \n",
       "\n",
       "     rating_counts  \n",
       "72              35  \n",
       "73              35  \n",
       "74              35  \n",
       "75              35  \n",
       "76              35  \n",
       "77              35  \n",
       "78              35  \n",
       "79              35  \n",
       "80              35  \n",
       "81              35  \n",
       "82              35  \n",
       "83              35  \n",
       "84              35  \n",
       "85              35  \n",
       "86              35  \n",
       "87              35  \n",
       "88              35  \n",
       "89              35  \n",
       "90              35  \n",
       "91              35  \n",
       "92              35  \n",
       "93              35  \n",
       "95              35  \n",
       "97              35  \n",
       "98              35  \n",
       "99              35  \n",
       "100             35  \n",
       "101             35  \n",
       "102             35  \n",
       "103             35  \n",
       "104             35  \n",
       "105             35  \n",
       "106             35  \n",
       "153             32  \n",
       "154             32  \n",
       "155             32  \n",
       "156             32  \n",
       "157             32  "
      ]
     },
     "execution_count": 164,
     "metadata": {},
     "output_type": "execute_result"
    }
   ],
   "source": [
    "final_dataset.head(38)"
   ]
  },
  {
   "cell_type": "code",
   "execution_count": 161,
   "metadata": {},
   "outputs": [
    {
     "data": {
      "text/plain": [
       "(2410, 6)"
      ]
     },
     "execution_count": 161,
     "metadata": {},
     "output_type": "execute_result"
    }
   ],
   "source": [
    "filter_mask = final_dataset[\"rating_counts\"] > 30\n",
    "final_dataset = final_dataset[filter_mask]\n",
    "final_dataset.shape\n"
   ]
  },
  {
   "cell_type": "code",
   "execution_count": 203,
   "metadata": {},
   "outputs": [],
   "source": [
    "pivot = final_dataset.pivot_table(index=\"title\",columns=\"user\",values=\"rating\")"
   ]
  },
  {
   "cell_type": "code",
   "execution_count": 204,
   "metadata": {},
   "outputs": [
    {
     "data": {
      "text/plain": [
       "(63, 416)"
      ]
     },
     "execution_count": 204,
     "metadata": {},
     "output_type": "execute_result"
    }
   ],
   "source": [
    "pivot.fillna(0,inplace=True)\n",
    "pivot.shape"
   ]
  },
  {
   "cell_type": "code",
   "execution_count": 205,
   "metadata": {},
   "outputs": [],
   "source": [
    "from scipy.sparse import csr_matrix\n",
    "book_sparse = csr_matrix(pivot)"
   ]
  },
  {
   "cell_type": "code",
   "execution_count": 206,
   "metadata": {},
   "outputs": [
    {
     "data": {
      "text/plain": [
       "NearestNeighbors(algorithm='brute')"
      ]
     },
     "execution_count": 206,
     "metadata": {},
     "output_type": "execute_result"
    }
   ],
   "source": [
    "from sklearn.neighbors import NearestNeighbors\n",
    "model = NearestNeighbors(algorithm='brute')\n",
    "model.fit(book_sparse)"
   ]
  },
  {
   "cell_type": "code",
   "execution_count": 229,
   "metadata": {},
   "outputs": [],
   "source": [
    "distances, suggestions = model.kneighbors(pivot.iloc[0, :].values.reshape(1, -1))"
   ]
  },
  {
   "cell_type": "code",
   "execution_count": 230,
   "metadata": {},
   "outputs": [
    {
     "name": "stdout",
     "output_type": "stream",
     "text": [
      "Index(['1st to Die: A Novel', '2nd Chance', 'When the Wind Blows',\n",
      "       'The Brethren', 'House of Sand and Fog'],\n",
      "      dtype='object', name='title')\n"
     ]
    }
   ],
   "source": [
    "for i in range(len(suggestions)):\n",
    "  print(pivot.index[suggestions[i]])"
   ]
  },
  {
   "cell_type": "code",
   "execution_count": 228,
   "metadata": {},
   "outputs": [
    {
     "data": {
      "text/plain": [
       "user\n",
       "2033      0.0\n",
       "2110      0.0\n",
       "2276      0.0\n",
       "3757      0.0\n",
       "4017      0.0\n",
       "         ... \n",
       "274004    0.0\n",
       "274061    0.0\n",
       "274301    0.0\n",
       "275970    0.0\n",
       "277427    0.0\n",
       "Name: 1st to Die: A Novel, Length: 416, dtype: float32"
      ]
     },
     "execution_count": 228,
     "metadata": {},
     "output_type": "execute_result"
    }
   ],
   "source": [
    "pivot.iloc[0,]"
   ]
  },
  {
   "cell_type": "code",
   "execution_count": null,
   "metadata": {},
   "outputs": [],
   "source": []
  }
 ],
 "metadata": {
  "interpreter": {
   "hash": "ccdd01b0c33a4b4dba0f43c84e1780e93d14d166c9965d8e132ea0768e351910"
  },
  "kernelspec": {
   "display_name": "Python 3.8.8 64-bit ('env': venv)",
   "language": "python",
   "name": "python3"
  },
  "language_info": {
   "codemirror_mode": {
    "name": "ipython",
    "version": 3
   },
   "file_extension": ".py",
   "mimetype": "text/x-python",
   "name": "python",
   "nbconvert_exporter": "python",
   "pygments_lexer": "ipython3",
   "version": "3.8.8"
  },
  "orig_nbformat": 4
 },
 "nbformat": 4,
 "nbformat_minor": 2
}
