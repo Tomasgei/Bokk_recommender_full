{
 "cells": [
  {
   "cell_type": "code",
   "execution_count": 301,
   "metadata": {},
   "outputs": [],
   "source": [
    "import pandas as pd\n",
    "import numpy as np\n",
    "import matplotlib.pyplot as plt\n",
    "import seaborn as sns\n",
    "from sklearn.neighbors import NearestNeighbors\n",
    "from scipy.sparse import csr_matrix"
   ]
  },
  {
   "cell_type": "code",
   "execution_count": 302,
   "metadata": {},
   "outputs": [],
   "source": [
    "# Load and preprocess data\n",
    "books_path = \"BX-Books.csv\"\n",
    "ratings_path = \"BX-Book-Ratings.csv\"\n",
    "\n",
    "df_books = pd.read_csv(\n",
    "    books_path,\n",
    "    encoding = \"ISO-8859-1\",\n",
    "    sep=\";\",\n",
    "    header=0,\n",
    "    names=['isbn', 'title', 'author'],\n",
    "    usecols=['isbn', 'title', 'author'],\n",
    "    dtype={'isbn': 'str', 'title': 'str', 'author': 'str'})\n",
    "\n",
    "df_ratings = pd.read_csv(\n",
    "    ratings_path,\n",
    "    encoding = \"ISO-8859-1\",\n",
    "    sep=\";\",\n",
    "    header=0,\n",
    "    names=['user', 'isbn', 'rating'],\n",
    "    usecols=['user', 'isbn', 'rating'],\n",
    "    dtype={'user': 'int32', 'isbn': 'str', 'rating': 'float32'})"
   ]
  },
  {
   "cell_type": "code",
   "execution_count": 320,
   "metadata": {},
   "outputs": [
    {
     "name": "stdout",
     "output_type": "stream",
     "text": [
      "<class 'pandas.core.frame.DataFrame'>\n",
      "RangeIndex: 271379 entries, 0 to 271378\n",
      "Data columns (total 3 columns):\n",
      " #   Column  Non-Null Count   Dtype \n",
      "---  ------  --------------   ----- \n",
      " 0   isbn    271379 non-null  object\n",
      " 1   title   271379 non-null  object\n",
      " 2   author  271378 non-null  object\n",
      "dtypes: object(3)\n",
      "memory usage: 6.2+ MB\n"
     ]
    }
   ],
   "source": [
    "df_books.info()"
   ]
  },
  {
   "cell_type": "code",
   "execution_count": 303,
   "metadata": {},
   "outputs": [],
   "source": [
    "def test(df_books, df_ratings):\n",
    "    df_cleaned_ratings = df_ratings[df_ratings.rating != 0]\n",
    "    \n",
    "    #select users which gives more than x ratings\n",
    "    rating_treshold = 30\n",
    "    # mask\n",
    "    valid_users = df_cleaned_ratings[\"user\"].value_counts() >= rating_treshold\n",
    "    \n",
    "    # Create index for DataFrame from valid users\n",
    "    # Construct dataset with valid users which gives more than 100 ratings\n",
    "    # Merge Books and Ratings df to get clean data\n",
    "    user_index = valid_users[valid_users].index\n",
    "    df_cleaned_ratings = df_cleaned_ratings[df_cleaned_ratings[\"user\"].isin(user_index)]\n",
    "    clean_dataset = df_cleaned_ratings.merge(df_books, on=\"isbn\")\n",
    "    \n",
    "    # get rating counts for every title from all valid users and reset index\n",
    "    # rename rating columns to rating counts\n",
    "    # get DataFrame with rating counts for every Book\n",
    "    # get books with more than x rating counts\n",
    "    # drop duplicate rating by same user\n",
    "    count_rating = clean_dataset.groupby('title')['rating'].count().reset_index()\n",
    "    count_rating.rename(columns={\"rating\":\"rating_counts\"}, inplace=True)\n",
    "    final_dataset = count_rating.merge(clean_dataset, on=\"title\")\n",
    "    mask_ratings = final_dataset[\"rating_counts\"] >= 10\n",
    "    final_dataset = final_dataset[mask_ratings].reset_index(drop=True)\n",
    "    final_dataset.drop_duplicates([\"user\",\"title\"])\n",
    "\n",
    "    # contruct pivot table for recommendation engine\n",
    "    pivot = final_dataset.pivot_table(index=\"title\",columns=\"user\",values=\"rating\")\n",
    "    pivot.fillna(0,inplace=True)\n",
    "\n",
    "    return pivot\n"
   ]
  },
  {
   "cell_type": "code",
   "execution_count": 304,
   "metadata": {},
   "outputs": [],
   "source": [
    "pivot = test(df_books, df_ratings)"
   ]
  },
  {
   "cell_type": "code",
   "execution_count": 305,
   "metadata": {},
   "outputs": [],
   "source": [
    "def book_suggestions(pivot, book_name):\n",
    "    book_titles = df.index.tolist()\n",
    "    row_index = book_titles.index(book_name)\n",
    "    \n",
    "    book_sparse = csr_matrix(pivot)\n",
    "    model = NearestNeighbors(metric = 'cosine', algorithm='auto',n_neighbors=6)\n",
    "    model.fit(book_sparse)\n",
    "    distances, suggestions = model.kneighbors(pivot.iloc[row_index, :].values.reshape(1, -1))\n",
    "    for i in range(len(suggestions)):\n",
    "        print(pivot.index[suggestions[i]])\n"
   ]
  },
  {
   "cell_type": "code",
   "execution_count": 306,
   "metadata": {},
   "outputs": [
    {
     "name": "stdout",
     "output_type": "stream",
     "text": [
      "Index(['Where the Heart Is (Oprah's Book Club (Paperback))', 'Blue Diary',\n",
      "       'The Lovely Bones: A Novel', 'The Weight of Water',\n",
      "       'The Pilot's Wife : A Novel',\n",
      "       'The Book of Ruth (Oprah's Book Club (Paperback))'],\n",
      "      dtype='object', name='title')\n"
     ]
    }
   ],
   "source": [
    "like_book_2 = \"Where the Heart Is (Oprah's Book Club (Paperback))\"\n",
    "book_suggestions(pivot, like_book_2)"
   ]
  },
  {
   "cell_type": "code",
   "execution_count": 315,
   "metadata": {},
   "outputs": [],
   "source": [
    "class BookSuggestionEngine():\n",
    "\n",
    "    def __init__(self,book_name):\n",
    "        self.book_name = book_name\n",
    "        self.books = \"BX-Books.csv\"\n",
    "        self.ratings = \"BX-Book-Ratings.csv\"\n",
    "\n",
    "\n",
    "    def prepare_data(self):\n",
    "        df_books = pd.read_csv(\n",
    "            self.books,\n",
    "            encoding = \"ISO-8859-1\",\n",
    "            sep=\";\",\n",
    "            header=0,\n",
    "            names=['isbn', 'title', 'author'],\n",
    "            usecols=['isbn', 'title', 'author'],\n",
    "            dtype={'isbn': 'str', 'title': 'str', 'author': 'str'})\n",
    "\n",
    "        df_ratings = pd.read_csv(\n",
    "            self.ratings,\n",
    "            encoding = \"ISO-8859-1\",\n",
    "            sep=\";\",\n",
    "            header=0,\n",
    "            names=['user', 'isbn', 'rating'],\n",
    "            usecols=['user', 'isbn', 'rating'],\n",
    "            dtype={'user': 'int32', 'isbn': 'str', 'rating': 'float32'})\n",
    "\n",
    "        df_cleaned_ratings = df_ratings[df_ratings.rating != 0]\n",
    "    \n",
    "        #select users which gives more than x ratings\n",
    "        rating_treshold = 30\n",
    "        # mask\n",
    "        valid_users = df_cleaned_ratings[\"user\"].value_counts() >= rating_treshold\n",
    "        \n",
    "        # Create index for DataFrame from valid users\n",
    "        # Construct dataset with valid users which gives more than 100 ratings\n",
    "        # Merge Books and Ratings df to get clean data\n",
    "        user_index = valid_users[valid_users].index\n",
    "        df_cleaned_ratings = df_cleaned_ratings[df_cleaned_ratings[\"user\"].isin(user_index)]\n",
    "        clean_dataset = df_cleaned_ratings.merge(df_books, on=\"isbn\")\n",
    "        \n",
    "        # get rating counts for every title from all valid users and reset index\n",
    "        # rename rating columns to rating counts\n",
    "        # get DataFrame with rating counts for every Book\n",
    "        # get books with more than x rating counts\n",
    "        # drop duplicate rating by same user\n",
    "        count_rating = clean_dataset.groupby('title')['rating'].count().reset_index()\n",
    "        count_rating.rename(columns={\"rating\":\"rating_counts\"}, inplace=True)\n",
    "        final_dataset = count_rating.merge(clean_dataset, on=\"title\")\n",
    "        mask_ratings = final_dataset[\"rating_counts\"] >= 10\n",
    "        final_dataset = final_dataset[mask_ratings].reset_index(drop=True)\n",
    "        final_dataset.drop_duplicates([\"user\",\"title\"])\n",
    "\n",
    "        # contruct pivot table for recommendation engine\n",
    "        pivot = final_dataset.pivot_table(index=\"title\",columns=\"user\",values=\"rating\")\n",
    "        pivot.fillna(0,inplace=True)\n",
    "\n",
    "        return pivot\n",
    "\n",
    "    def book_suggestions(self, pivot):\n",
    "        try: \n",
    "            book_titles = pivot.index.tolist()\n",
    "            row_index = book_titles.index(self.book_name)\n",
    "            \n",
    "            book_sparse = csr_matrix(pivot)\n",
    "            model = NearestNeighbors(metric = 'cosine', algorithm='auto',n_neighbors=5)\n",
    "            model.fit(book_sparse)\n",
    "            distances, suggestions = model.kneighbors(pivot.iloc[row_index, :].values.reshape(1, -1))\n",
    "            for i in range(len(suggestions)):\n",
    "                print(pivot.index[suggestions[i]])\n",
    "        except:\n",
    "            print(f\"Sorry, the book: {self.book_name} is not in database or you maybe misstype\" )"
   ]
  },
  {
   "cell_type": "code",
   "execution_count": 323,
   "metadata": {},
   "outputs": [
    {
     "name": "stdout",
     "output_type": "stream",
     "text": [
      "Index(['The Fellowship of the Ring (The Lord of the Rings, Part 1)',\n",
      "       'The Two Towers (The Lord of the Rings, Part 2)',\n",
      "       'The Return of the King (The Lord of the Rings, Part 3)',\n",
      "       'The Return of the King (The Lord of The Rings, Part 3)',\n",
      "       'The Hobbit : The Enchanting Prelude to The Lord of the Rings'],\n",
      "      dtype='object', name='title')\n"
     ]
    }
   ],
   "source": [
    "like_book_1 = 'Dark Justice' ## méně než 10 hodnocení\n",
    "like_book_2 = \"Where the Heart Is (Oprah's Book Club (Paperback))\"\n",
    "like_book_3 = 'The Queen of the Damned (Vampire Chronicles (Paperback))'\n",
    "like_book_4 = 'The Fellowship of The Ring (the lord of the rings, part 1)'\n",
    "like_book_5 = \"The Fellowship of the Ring (The Lord of the Rings, Part 1)\"\n",
    "like_book_6 =  \"Harry Potter and the Sorcerer's Stone (Book 1)\"\n",
    "a = BookSuggestionEngine(like_book_5)\n",
    "\n",
    "c = a.book_suggestions()"
   ]
  },
  {
   "cell_type": "code",
   "execution_count": null,
   "metadata": {},
   "outputs": [],
   "source": []
  },
  {
   "cell_type": "code",
   "execution_count": null,
   "metadata": {},
   "outputs": [],
   "source": []
  },
  {
   "cell_type": "code",
   "execution_count": 246,
   "metadata": {},
   "outputs": [],
   "source": [
    "like_book_1 = ' Dark Justice' ## méně než 10 hodnocení\n",
    "like_book_2 = \"Where the Heart Is (Oprah's Book Club (Paperback))\"\n",
    "like_book_3 = 'The Queen of the Damned (Vampire Chronicles (Paperback))'\n",
    "\n",
    "def get_index_by_title(like_book, pivot):\n",
    "    book_titles = df.index.tolist()\n",
    "    row_index = book_titles.index(like_book)\n",
    "    return row_index\n",
    "\n"
   ]
  },
  {
   "cell_type": "code",
   "execution_count": 244,
   "metadata": {},
   "outputs": [
    {
     "data": {
      "text/plain": [
       "user\n",
       "183       0.0\n",
       "242       0.0\n",
       "254       0.0\n",
       "507       0.0\n",
       "638       0.0\n",
       "         ... \n",
       "278188    0.0\n",
       "278356    0.0\n",
       "278418    0.0\n",
       "278582    0.0\n",
       "278633    0.0\n",
       "Name: 10 Lb. Penalty, Length: 2285, dtype: float32"
      ]
     },
     "execution_count": 244,
     "metadata": {},
     "output_type": "execute_result"
    }
   ],
   "source": [
    "pivot.iloc[1]"
   ]
  },
  {
   "cell_type": "code",
   "execution_count": null,
   "metadata": {},
   "outputs": [],
   "source": []
  },
  {
   "cell_type": "code",
   "execution_count": null,
   "metadata": {},
   "outputs": [],
   "source": []
  },
  {
   "cell_type": "code",
   "execution_count": 195,
   "metadata": {},
   "outputs": [],
   "source": [
    "df = test(df_books, df_ratings)"
   ]
  },
  {
   "cell_type": "code",
   "execution_count": 201,
   "metadata": {},
   "outputs": [
    {
     "data": {
      "text/plain": [
       "user\n",
       "183       0.0\n",
       "242       0.0\n",
       "254       0.0\n",
       "507       0.0\n",
       "638       0.0\n",
       "         ... \n",
       "278188    0.0\n",
       "278356    0.0\n",
       "278418    0.0\n",
       "278582    0.0\n",
       "278633    0.0\n",
       "Name: Where the Heart Is (Oprah's Book Club (Paperback)), Length: 2285, dtype: float32"
      ]
     },
     "execution_count": 201,
     "metadata": {},
     "output_type": "execute_result"
    }
   ],
   "source": [
    "df.iloc[2365]"
   ]
  },
  {
   "cell_type": "code",
   "execution_count": null,
   "metadata": {},
   "outputs": [],
   "source": []
  },
  {
   "cell_type": "code",
   "execution_count": 202,
   "metadata": {},
   "outputs": [],
   "source": [
    "\n",
    "def get_index_by_title(like_book, df):\n",
    "    book_titles = df.index.tolist()\n",
    "    row_index = book_titles.index(like_book)\n",
    "    return row_index\n"
   ]
  },
  {
   "cell_type": "code",
   "execution_count": 205,
   "metadata": {},
   "outputs": [
    {
     "name": "stdout",
     "output_type": "stream",
     "text": [
      "2066\n"
     ]
    }
   ],
   "source": [
    "like_book_1 = ' Dark Justice' ## méně než 10 hodnocení\n",
    "like_book_2 = \"Where the Heart Is (Oprah's Book Club (Paperback))\"\n",
    "like_book_3 = 'The Queen of the Damned (Vampire Chronicles (Paperback))'\n",
    "print(get_index_by_title(like_book_3, df))"
   ]
  },
  {
   "cell_type": "code",
   "execution_count": 199,
   "metadata": {},
   "outputs": [
    {
     "data": {
      "text/plain": [
       "user\n",
       "183       0.0\n",
       "242       0.0\n",
       "254       0.0\n",
       "507       0.0\n",
       "638       0.0\n",
       "         ... \n",
       "278188    0.0\n",
       "278356    0.0\n",
       "278418    0.0\n",
       "278582    0.0\n",
       "278633    0.0\n",
       "Name: Where the Heart Is (Oprah's Book Club (Paperback)), Length: 2285, dtype: float32"
      ]
     },
     "execution_count": 199,
     "metadata": {},
     "output_type": "execute_result"
    }
   ],
   "source": [
    "like_book = \"Where the Heart Is (Oprah's Book Club (Paperback))\"\n",
    "df.iloc[get_index_by_title(like_book, df)]"
   ]
  },
  {
   "cell_type": "code",
   "execution_count": null,
   "metadata": {},
   "outputs": [],
   "source": []
  }
 ],
 "metadata": {
  "interpreter": {
   "hash": "ccdd01b0c33a4b4dba0f43c84e1780e93d14d166c9965d8e132ea0768e351910"
  },
  "kernelspec": {
   "display_name": "Python 3.8.8 64-bit ('env': venv)",
   "language": "python",
   "name": "python3"
  },
  "language_info": {
   "codemirror_mode": {
    "name": "ipython",
    "version": 3
   },
   "file_extension": ".py",
   "mimetype": "text/x-python",
   "name": "python",
   "nbconvert_exporter": "python",
   "pygments_lexer": "ipython3",
   "version": "3.8.8"
  },
  "orig_nbformat": 4
 },
 "nbformat": 4,
 "nbformat_minor": 2
}
